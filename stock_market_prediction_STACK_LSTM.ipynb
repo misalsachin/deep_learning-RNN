{
  "nbformat": 4,
  "nbformat_minor": 0,
  "metadata": {
    "colab": {
      "name": "stock-market-prediction-STACK-LSTM.ipynb",
      "provenance": [],
      "authorship_tag": "ABX9TyOlqRVRU1BxI1imiacTmIfA",
      "include_colab_link": true
    },
    "kernelspec": {
      "name": "python3",
      "display_name": "Python 3"
    }
  },
  "cells": [
    {
      "cell_type": "markdown",
      "metadata": {
        "id": "view-in-github",
        "colab_type": "text"
      },
      "source": [
        "<a href=\"https://colab.research.google.com/github/misalsachin/deep_learning-RNN/blob/master/stock_market_prediction_STACK_LSTM.ipynb\" target=\"_parent\"><img src=\"https://colab.research.google.com/assets/colab-badge.svg\" alt=\"Open In Colab\"/></a>"
      ]
    },
    {
      "cell_type": "code",
      "metadata": {
        "id": "w6uG2IzcFxGO",
        "colab_type": "code",
        "colab": {
          "base_uri": "https://localhost:8080/",
          "height": 35
        },
        "outputId": "f59eb599-6f72-4e36-b24a-54cd4b8bdb9b"
      },
      "source": [
        "!git clone https://github.com/misalsachin/deep_learning-RNN.git"
      ],
      "execution_count": null,
      "outputs": [
        {
          "output_type": "stream",
          "text": [
            "fatal: destination path 'deep_learning-RNN' already exists and is not an empty directory.\n"
          ],
          "name": "stdout"
        }
      ]
    },
    {
      "cell_type": "code",
      "metadata": {
        "id": "_9eL1JHDJPF0",
        "colab_type": "code",
        "colab": {}
      },
      "source": [
        "import pandas as pd\n"
      ],
      "execution_count": null,
      "outputs": []
    },
    {
      "cell_type": "code",
      "metadata": {
        "id": "Y09FfqxDLRBb",
        "colab_type": "code",
        "colab": {}
      },
      "source": [
        "df=pd.read_csv('/content/deep_learning-RNN/shareprice.csv')"
      ],
      "execution_count": null,
      "outputs": []
    },
    {
      "cell_type": "code",
      "metadata": {
        "id": "moHWW3GqLXut",
        "colab_type": "code",
        "colab": {
          "base_uri": "https://localhost:8080/",
          "height": 35
        },
        "outputId": "b2a3e6bc-dc9d-49ec-85e8-2ceabd006145"
      },
      "source": [
        "df.shape"
      ],
      "execution_count": null,
      "outputs": [
        {
          "output_type": "execute_result",
          "data": {
            "text/plain": [
              "(737, 7)"
            ]
          },
          "metadata": {
            "tags": []
          },
          "execution_count": 30
        }
      ]
    },
    {
      "cell_type": "code",
      "metadata": {
        "id": "gbnIY6iXLZ4K",
        "colab_type": "code",
        "colab": {
          "base_uri": "https://localhost:8080/",
          "height": 206
        },
        "outputId": "6cec84e5-9ede-4dd7-c569-45f6eca8a9c4"
      },
      "source": [
        "df.head()"
      ],
      "execution_count": null,
      "outputs": [
        {
          "output_type": "execute_result",
          "data": {
            "text/html": [
              "<div>\n",
              "<style scoped>\n",
              "    .dataframe tbody tr th:only-of-type {\n",
              "        vertical-align: middle;\n",
              "    }\n",
              "\n",
              "    .dataframe tbody tr th {\n",
              "        vertical-align: top;\n",
              "    }\n",
              "\n",
              "    .dataframe thead th {\n",
              "        text-align: right;\n",
              "    }\n",
              "</style>\n",
              "<table border=\"1\" class=\"dataframe\">\n",
              "  <thead>\n",
              "    <tr style=\"text-align: right;\">\n",
              "      <th></th>\n",
              "      <th>Date</th>\n",
              "      <th>Open</th>\n",
              "      <th>High</th>\n",
              "      <th>Low</th>\n",
              "      <th>Close</th>\n",
              "      <th>Adj Close</th>\n",
              "      <th>Volume</th>\n",
              "    </tr>\n",
              "  </thead>\n",
              "  <tbody>\n",
              "    <tr>\n",
              "      <th>0</th>\n",
              "      <td>8/7/2017</td>\n",
              "      <td>815.799988</td>\n",
              "      <td>815.799988</td>\n",
              "      <td>806.275024</td>\n",
              "      <td>808.174988</td>\n",
              "      <td>795.897461</td>\n",
              "      <td>4360036</td>\n",
              "    </tr>\n",
              "    <tr>\n",
              "      <th>1</th>\n",
              "      <td>8/8/2017</td>\n",
              "      <td>809.000000</td>\n",
              "      <td>810.525024</td>\n",
              "      <td>793.400024</td>\n",
              "      <td>801.275024</td>\n",
              "      <td>789.102295</td>\n",
              "      <td>5011136</td>\n",
              "    </tr>\n",
              "    <tr>\n",
              "      <th>2</th>\n",
              "      <td>8/9/2017</td>\n",
              "      <td>800.750000</td>\n",
              "      <td>810.000000</td>\n",
              "      <td>792.500000</td>\n",
              "      <td>799.400024</td>\n",
              "      <td>787.255798</td>\n",
              "      <td>4771286</td>\n",
              "    </tr>\n",
              "    <tr>\n",
              "      <th>3</th>\n",
              "      <td>8/10/2017</td>\n",
              "      <td>796.525024</td>\n",
              "      <td>803.325012</td>\n",
              "      <td>788.974976</td>\n",
              "      <td>792.174988</td>\n",
              "      <td>780.140503</td>\n",
              "      <td>4657686</td>\n",
              "    </tr>\n",
              "    <tr>\n",
              "      <th>4</th>\n",
              "      <td>8/11/2017</td>\n",
              "      <td>775.474976</td>\n",
              "      <td>790.000000</td>\n",
              "      <td>766.500000</td>\n",
              "      <td>773.125000</td>\n",
              "      <td>761.379883</td>\n",
              "      <td>7770128</td>\n",
              "    </tr>\n",
              "  </tbody>\n",
              "</table>\n",
              "</div>"
            ],
            "text/plain": [
              "        Date        Open        High  ...       Close   Adj Close   Volume\n",
              "0   8/7/2017  815.799988  815.799988  ...  808.174988  795.897461  4360036\n",
              "1   8/8/2017  809.000000  810.525024  ...  801.275024  789.102295  5011136\n",
              "2   8/9/2017  800.750000  810.000000  ...  799.400024  787.255798  4771286\n",
              "3  8/10/2017  796.525024  803.325012  ...  792.174988  780.140503  4657686\n",
              "4  8/11/2017  775.474976  790.000000  ...  773.125000  761.379883  7770128\n",
              "\n",
              "[5 rows x 7 columns]"
            ]
          },
          "metadata": {
            "tags": []
          },
          "execution_count": 31
        }
      ]
    },
    {
      "cell_type": "code",
      "metadata": {
        "id": "yGLKD8CtLdGd",
        "colab_type": "code",
        "colab": {
          "base_uri": "https://localhost:8080/",
          "height": 206
        },
        "outputId": "aa5b9d99-49f0-456d-cccc-7cdd7d8bae4b"
      },
      "source": [
        "df.tail()"
      ],
      "execution_count": null,
      "outputs": [
        {
          "output_type": "execute_result",
          "data": {
            "text/html": [
              "<div>\n",
              "<style scoped>\n",
              "    .dataframe tbody tr th:only-of-type {\n",
              "        vertical-align: middle;\n",
              "    }\n",
              "\n",
              "    .dataframe tbody tr th {\n",
              "        vertical-align: top;\n",
              "    }\n",
              "\n",
              "    .dataframe thead th {\n",
              "        text-align: right;\n",
              "    }\n",
              "</style>\n",
              "<table border=\"1\" class=\"dataframe\">\n",
              "  <thead>\n",
              "    <tr style=\"text-align: right;\">\n",
              "      <th></th>\n",
              "      <th>Date</th>\n",
              "      <th>Open</th>\n",
              "      <th>High</th>\n",
              "      <th>Low</th>\n",
              "      <th>Close</th>\n",
              "      <th>Adj Close</th>\n",
              "      <th>Volume</th>\n",
              "    </tr>\n",
              "  </thead>\n",
              "  <tbody>\n",
              "    <tr>\n",
              "      <th>732</th>\n",
              "      <td>7/31/2020</td>\n",
              "      <td>2114.500000</td>\n",
              "      <td>2129.000000</td>\n",
              "      <td>2052.800049</td>\n",
              "      <td>2067.100098</td>\n",
              "      <td>2067.100098</td>\n",
              "      <td>34593133</td>\n",
              "    </tr>\n",
              "    <tr>\n",
              "      <th>733</th>\n",
              "      <td>8/3/2020</td>\n",
              "      <td>2051.300049</td>\n",
              "      <td>2057.000000</td>\n",
              "      <td>2003.099976</td>\n",
              "      <td>2009.000000</td>\n",
              "      <td>2009.000000</td>\n",
              "      <td>21559142</td>\n",
              "    </tr>\n",
              "    <tr>\n",
              "      <th>734</th>\n",
              "      <td>8/4/2020</td>\n",
              "      <td>2020.599976</td>\n",
              "      <td>2167.000000</td>\n",
              "      <td>2000.250000</td>\n",
              "      <td>2150.600098</td>\n",
              "      <td>2150.600098</td>\n",
              "      <td>42476932</td>\n",
              "    </tr>\n",
              "    <tr>\n",
              "      <th>735</th>\n",
              "      <td>8/5/2020</td>\n",
              "      <td>2169.000000</td>\n",
              "      <td>2196.000000</td>\n",
              "      <td>2118.300049</td>\n",
              "      <td>2126.449951</td>\n",
              "      <td>2126.449951</td>\n",
              "      <td>34404810</td>\n",
              "    </tr>\n",
              "    <tr>\n",
              "      <th>736</th>\n",
              "      <td>8/6/2020</td>\n",
              "      <td>2157.000000</td>\n",
              "      <td>2167.699951</td>\n",
              "      <td>2107.800049</td>\n",
              "      <td>2134.100098</td>\n",
              "      <td>2134.100098</td>\n",
              "      <td>22762545</td>\n",
              "    </tr>\n",
              "  </tbody>\n",
              "</table>\n",
              "</div>"
            ],
            "text/plain": [
              "          Date         Open         High  ...        Close    Adj Close    Volume\n",
              "732  7/31/2020  2114.500000  2129.000000  ...  2067.100098  2067.100098  34593133\n",
              "733   8/3/2020  2051.300049  2057.000000  ...  2009.000000  2009.000000  21559142\n",
              "734   8/4/2020  2020.599976  2167.000000  ...  2150.600098  2150.600098  42476932\n",
              "735   8/5/2020  2169.000000  2196.000000  ...  2126.449951  2126.449951  34404810\n",
              "736   8/6/2020  2157.000000  2167.699951  ...  2134.100098  2134.100098  22762545\n",
              "\n",
              "[5 rows x 7 columns]"
            ]
          },
          "metadata": {
            "tags": []
          },
          "execution_count": 32
        }
      ]
    },
    {
      "cell_type": "code",
      "metadata": {
        "id": "2S9lZOizLe-5",
        "colab_type": "code",
        "colab": {}
      },
      "source": [
        "df1=df.reset_index()['Close']"
      ],
      "execution_count": null,
      "outputs": []
    },
    {
      "cell_type": "code",
      "metadata": {
        "id": "z-LjGV9TLzHP",
        "colab_type": "code",
        "colab": {
          "base_uri": "https://localhost:8080/",
          "height": 237
        },
        "outputId": "34669e4b-3426-4333-9a62-19ebf8c2bad1"
      },
      "source": [
        "df1"
      ],
      "execution_count": null,
      "outputs": [
        {
          "output_type": "execute_result",
          "data": {
            "text/plain": [
              "0       808.174988\n",
              "1       801.275024\n",
              "2       799.400024\n",
              "3       792.174988\n",
              "4       773.125000\n",
              "          ...     \n",
              "732    2067.100098\n",
              "733    2009.000000\n",
              "734    2150.600098\n",
              "735    2126.449951\n",
              "736    2134.100098\n",
              "Name: Close, Length: 737, dtype: float64"
            ]
          },
          "metadata": {
            "tags": []
          },
          "execution_count": 34
        }
      ]
    },
    {
      "cell_type": "code",
      "metadata": {
        "id": "rGzGIWWUL1ug",
        "colab_type": "code",
        "colab": {}
      },
      "source": [
        "import matplotlib.pyplot as plt"
      ],
      "execution_count": null,
      "outputs": []
    },
    {
      "cell_type": "code",
      "metadata": {
        "id": "DDWVzz0qMD5g",
        "colab_type": "code",
        "colab": {
          "base_uri": "https://localhost:8080/",
          "height": 283
        },
        "outputId": "80fedd2a-4785-4ec5-9b0c-17ca803c56b1"
      },
      "source": [
        "plt.plot(df1)"
      ],
      "execution_count": null,
      "outputs": [
        {
          "output_type": "execute_result",
          "data": {
            "text/plain": [
              "[<matplotlib.lines.Line2D at 0x7f7b3e3a0320>]"
            ]
          },
          "metadata": {
            "tags": []
          },
          "execution_count": 36
        },
        {
          "output_type": "display_data",
          "data": {
            "image/png": "[encoded data removed]",
            "text/plain": [
              "<Figure size 432x288 with 1 Axes>"
            ]
          },
          "metadata": {
            "tags": [],
            "needs_background": "light"
          }
        }
      ]
    },
    {
      "cell_type": "code",
      "metadata": {
        "id": "UFDFTfWhMGpK",
        "colab_type": "code",
        "colab": {}
      },
      "source": [
        "### LSTM are sensitive to the scale of the data. so we apply MinMax scaler"
      ],
      "execution_count": null,
      "outputs": []
    },
    {
      "cell_type": "code",
      "metadata": {
        "id": "UHOUcN0LMV8P",
        "colab_type": "code",
        "colab": {}
      },
      "source": [
        "import numpy as np"
      ],
      "execution_count": null,
      "outputs": []
    },
    {
      "cell_type": "code",
      "metadata": {
        "id": "q5sOt0ycMfIs",
        "colab_type": "code",
        "colab": {
          "base_uri": "https://localhost:8080/",
          "height": 237
        },
        "outputId": "b8ccd4bf-c44d-4ef9-9296-0ff58c01048f"
      },
      "source": [
        "df1"
      ],
      "execution_count": null,
      "outputs": [
        {
          "output_type": "execute_result",
          "data": {
            "text/plain": [
              "0       808.174988\n",
              "1       801.275024\n",
              "2       799.400024\n",
              "3       792.174988\n",
              "4       773.125000\n",
              "          ...     \n",
              "732    2067.100098\n",
              "733    2009.000000\n",
              "734    2150.600098\n",
              "735    2126.449951\n",
              "736    2134.100098\n",
              "Name: Close, Length: 737, dtype: float64"
            ]
          },
          "metadata": {
            "tags": []
          },
          "execution_count": 38
        }
      ]
    },
    {
      "cell_type": "code",
      "metadata": {
        "id": "qlbMKFzZQrY6",
        "colab_type": "code",
        "colab": {
          "base_uri": "https://localhost:8080/",
          "height": 35
        },
        "outputId": "dbdad75b-06ce-4497-90a1-4c0758a49f47"
      },
      "source": [
        "df1.shape"
      ],
      "execution_count": null,
      "outputs": [
        {
          "output_type": "execute_result",
          "data": {
            "text/plain": [
              "(737,)"
            ]
          },
          "metadata": {
            "tags": []
          },
          "execution_count": 39
        }
      ]
    },
    {
      "cell_type": "code",
      "metadata": {
        "id": "4YjON1EmMf2q",
        "colab_type": "code",
        "colab": {}
      },
      "source": [
        "from sklearn.preprocessing import MinMaxScaler\n",
        "scaler=MinMaxScaler(feature_range=(0,1))\n",
        "df1=scaler.fit_transform(np.array(df1).reshape(-1,1))"
      ],
      "execution_count": null,
      "outputs": []
    },
    {
      "cell_type": "code",
      "metadata": {
        "id": "2ugGyHViMs5E",
        "colab_type": "code",
        "colab": {
          "base_uri": "https://localhost:8080/",
          "height": 35
        },
        "outputId": "38d104ce-5c7d-4ed9-d842-a65189942f0a"
      },
      "source": [
        "df1.shape"
      ],
      "execution_count": null,
      "outputs": [
        {
          "output_type": "execute_result",
          "data": {
            "text/plain": [
              "(737, 1)"
            ]
          },
          "metadata": {
            "tags": []
          },
          "execution_count": 41
        }
      ]
    },
    {
      "cell_type": "code",
      "metadata": {
        "id": "ELB3H5DBQpPU",
        "colab_type": "code",
        "colab": {
          "base_uri": "https://localhost:8080/",
          "height": 1000
        },
        "outputId": "33f77076-de05-45a5-925d-3ff89a825fe5"
      },
      "source": [
        "print(df1)"
      ],
      "execution_count": null,
      "outputs": [
        {
          "output_type": "stream",
          "text": [
            "[[0.02982377]\n",
            " [0.02493581]\n",
            " [0.02360755]\n",
            " [0.01848931]\n",
            " [0.00499424]\n",
            " [0.01448686]\n",
            " [0.01202513]\n",
            " [0.01237933]\n",
            " [0.01531922]\n",
            " [0.01142301]\n",
            " [0.00988224]\n",
            " [0.01767467]\n",
            " [0.01271585]\n",
            " [0.01218455]\n",
            " [0.        ]\n",
            " [0.01131673]\n",
            " [0.02208447]\n",
            " [0.02761001]\n",
            " [0.02876116]\n",
            " [0.03557955]\n",
            " [0.04011335]\n",
            " [0.03685466]\n",
            " [0.03600461]\n",
            " [0.03671302]\n",
            " [0.04085716]\n",
            " [0.05874435]\n",
            " [0.05509605]\n",
            " [0.05364384]\n",
            " [0.05630035]\n",
            " [0.05137694]\n",
            " [0.05743382]\n",
            " [0.05332505]\n",
            " [0.03635882]\n",
            " [0.03929867]\n",
            " [0.03827147]\n",
            " [0.02343045]\n",
            " [0.01443372]\n",
            " [0.01050209]\n",
            " [0.0228637 ]\n",
            " [0.03738597]\n",
            " [0.04114054]\n",
            " [0.05027892]\n",
            " [0.04574516]\n",
            " [0.05463562]\n",
            " [0.052475  ]\n",
            " [0.07556893]\n",
            " [0.07819003]\n",
            " [0.07843796]\n",
            " [0.07670236]\n",
            " [0.10514478]\n",
            " [0.10188614]\n",
            " [0.12303196]\n",
            " [0.11913574]\n",
            " [0.12313824]\n",
            " [0.12845127]\n",
            " [0.11601875]\n",
            " [0.12498007]\n",
            " [0.12381119]\n",
            " [0.13209952]\n",
            " [0.12788451]\n",
            " [0.12696359]\n",
            " [0.11789604]\n",
            " [0.09961924]\n",
            " [0.08623039]\n",
            " [0.09522713]\n",
            " [0.08343219]\n",
            " [0.07733994]\n",
            " [0.08545117]\n",
            " [0.08332596]\n",
            " [0.09760026]\n",
            " [0.10330294]\n",
            " [0.10964312]\n",
            " [0.11793145]\n",
            " [0.11665633]\n",
            " [0.12816789]\n",
            " [0.13107233]\n",
            " [0.13124943]\n",
            " [0.1255822 ]\n",
            " [0.12745949]\n",
            " [0.11013901]\n",
            " [0.10202778]\n",
            " [0.09600635]\n",
            " [0.10457806]\n",
            " [0.1137519 ]\n",
            " [0.11722305]\n",
            " [0.1097494 ]\n",
            " [0.10631366]\n",
            " [0.105924  ]\n",
            " [0.10525105]\n",
            " [0.1101036 ]\n",
            " [0.10886389]\n",
            " [0.1097494 ]\n",
            " [0.113256  ]\n",
            " [0.10773047]\n",
            " [0.10404676]\n",
            " [0.10932437]\n",
            " [0.11598334]\n",
            " [0.11169751]\n",
            " [0.1120163 ]\n",
            " [0.10978481]\n",
            " [0.10177986]\n",
            " [0.10277164]\n",
            " [0.10535729]\n",
            " [0.10925351]\n",
            " [0.11134331]\n",
            " [0.11509784]\n",
            " [0.12388206]\n",
            " [0.1248738 ]\n",
            " [0.12161516]\n",
            " [0.1295847 ]\n",
            " [0.12969097]\n",
            " [0.11113079]\n",
            " [0.11222881]\n",
            " [0.10882848]\n",
            " [0.11704595]\n",
            " [0.14552377]\n",
            " [0.15384751]\n",
            " [0.14187548]\n",
            " [0.14155673]\n",
            " [0.14056495]\n",
            " [0.13057648]\n",
            " [0.13829805]\n",
            " [0.1259364 ]\n",
            " [0.09795446]\n",
            " [0.09639601]\n",
            " [0.08927652]\n",
            " [0.09090588]\n",
            " [0.09809615]\n",
            " [0.09334984]\n",
            " [0.10585318]\n",
            " [0.11871072]\n",
            " [0.12012753]\n",
            " [0.10996191]\n",
            " [0.11399982]\n",
            " [0.10982022]\n",
            " [0.11566455]\n",
            " [0.11212253]\n",
            " [0.11913574]\n",
            " [0.12228815]\n",
            " [0.1306473 ]\n",
            " [0.13351633]\n",
            " [0.12915967]\n",
            " [0.11194543]\n",
            " [0.10255909]\n",
            " [0.08761179]\n",
            " [0.10298415]\n",
            " [0.10415299]\n",
            " [0.11633754]\n",
            " [0.11743556]\n",
            " [0.11545204]\n",
            " [0.10323208]\n",
            " [0.09490834]\n",
            " [0.09168511]\n",
            " [0.0876472 ]\n",
            " [0.09267689]\n",
            " [0.10064643]\n",
            " [0.09055168]\n",
            " [0.09565215]\n",
            " [0.09473124]\n",
            " [0.08261755]\n",
            " [0.08987869]\n",
            " [0.09455414]\n",
            " [0.09126009]\n",
            " [0.10068184]\n",
            " [0.10266536]\n",
            " [0.10620738]\n",
            " [0.1069512 ]\n",
            " [0.11672716]\n",
            " [0.11520411]\n",
            " [0.12239438]\n",
            " [0.12111927]\n",
            " [0.12621978]\n",
            " [0.12179226]\n",
            " [0.12483838]\n",
            " [0.1146374 ]\n",
            " [0.12037545]\n",
            " [0.14449658]\n",
            " [0.14481537]\n",
            " [0.14825111]\n",
            " [0.16309217]\n",
            " [0.13971486]\n",
            " [0.14637387]\n",
            " [0.13851056]\n",
            " [0.1330913 ]\n",
            " [0.14516957]\n",
            " [0.14240678]\n",
            " [0.14920748]\n",
            " [0.15235988]\n",
            " [0.15809794]\n",
            " [0.15622065]\n",
            " [0.15080139]\n",
            " [0.1346498 ]\n",
            " [0.12699901]\n",
            " [0.11885237]\n",
            " [0.11708136]\n",
            " [0.11382272]\n",
            " [0.10355087]\n",
            " [0.1061011 ]\n",
            " [0.10960771]\n",
            " [0.10932437]\n",
            " [0.10723457]\n",
            " [0.1062782 ]\n",
            " [0.10999732]\n",
            " [0.11651464]\n",
            " [0.12381119]\n",
            " [0.12862837]\n",
            " [0.13341009]\n",
            " [0.1454175 ]\n",
            " [0.15462674]\n",
            " [0.15342249]\n",
            " [0.16369434]\n",
            " [0.16748428]\n",
            " [0.17134509]\n",
            " [0.17577261]\n",
            " [0.17672894]\n",
            " [0.16291507]\n",
            " [0.17935004]\n",
            " [0.18834673]\n",
            " [0.17456832]\n",
            " [0.16886568]\n",
            " [0.15080139]\n",
            " [0.14152128]\n",
            " [0.12671567]\n",
            " [0.14619677]\n",
            " [0.13780216]\n",
            " [0.14538208]\n",
            " [0.15870006]\n",
            " [0.14056495]\n",
            " [0.14980961]\n",
            " [0.16365889]\n",
            " [0.18391921]\n",
            " [0.19319936]\n",
            " [0.22405028]\n",
            " [0.23641197]\n",
            " [0.21969358]\n",
            " [0.23113432]\n",
            " [0.23127605]\n",
            " [0.23998936]\n",
            " [0.2568494 ]\n",
            " [0.25093424]\n",
            " [0.2443106 ]\n",
            " [0.24728595]\n",
            " [0.24409813]\n",
            " [0.25769945]\n",
            " [0.27296557]\n",
            " [0.29747632]\n",
            " [0.30197466]\n",
            " [0.28497298]\n",
            " [0.29106523]\n",
            " [0.30215176]\n",
            " [0.29620116]\n",
            " [0.31993267]\n",
            " [0.32010977]\n",
            " [0.31036923]\n",
            " [0.29868057]\n",
            " [0.31490303]\n",
            " [0.30796072]\n",
            " [0.31005048]\n",
            " [0.33211726]\n",
            " [0.34083057]\n",
            " [0.35659255]\n",
            " [0.36229523]\n",
            " [0.37221288]\n",
            " [0.39169398]\n",
            " [0.37412554]\n",
            " [0.36013457]\n",
            " [0.33689899]\n",
            " [0.32804394]\n",
            " [0.33711146]\n",
            " [0.32652086]\n",
            " [0.35088996]\n",
            " [0.36307446]\n",
            " [0.34695828]\n",
            " [0.33410074]\n",
            " [0.34458515]\n",
            " [0.34504563]\n",
            " [0.32574163]\n",
            " [0.3195431 ]\n",
            " [0.3150093 ]\n",
            " [0.31979103]\n",
            " [0.33009833]\n",
            " [0.32907109]\n",
            " [0.34380592]\n",
            " [0.34547065]\n",
            " [0.34844591]\n",
            " [0.32985032]\n",
            " [0.31100681]\n",
            " [0.2523156 ]\n",
            " [0.20031876]\n",
            " [0.24321263]\n",
            " [0.22950504]\n",
            " [0.23804125]\n",
            " [0.22791113]\n",
            " [0.25536177]\n",
            " [0.26471266]\n",
            " [0.28174979]\n",
            " [0.27289475]\n",
            " [0.23747458]\n",
            " [0.21009477]\n",
            " [0.20446291]\n",
            " [0.19812273]\n",
            " [0.18753213]\n",
            " [0.19752061]\n",
            " [0.22791113]\n",
            " [0.20609227]\n",
            " [0.20910298]\n",
            " [0.20556097]\n",
            " [0.21877271]\n",
            " [0.22968214]\n",
            " [0.23945806]\n",
            " [0.2441335 ]\n",
            " [0.23191354]\n",
            " [0.22238555]\n",
            " [0.23616396]\n",
            " [0.23510136]\n",
            " [0.23432213]\n",
            " [0.25596389]\n",
            " [0.27197379]\n",
            " [0.26304793]\n",
            " [0.24569204]\n",
            " [0.23857255]\n",
            " [0.24346055]\n",
            " [0.25653056]\n",
            " [0.27385108]\n",
            " [0.28507926]\n",
            " [0.28440631]\n",
            " [0.27654296]\n",
            " [0.27360316]\n",
            " [0.27562209]\n",
            " [0.25330738]\n",
            " [0.26049769]\n",
            " [0.22964669]\n",
            " [0.23481807]\n",
            " [0.24399186]\n",
            " [0.2415479 ]\n",
            " [0.24519611]\n",
            " [0.2577349 ]\n",
            " [0.26233952]\n",
            " [0.2626229 ]\n",
            " [0.25670766]\n",
            " [0.23669526]\n",
            " [0.22886746]\n",
            " [0.23538474]\n",
            " [0.25086333]\n",
            " [0.25465336]\n",
            " [0.25160719]\n",
            " [0.25143009]\n",
            " [0.24108742]\n",
            " [0.23141769]\n",
            " [0.23559729]\n",
            " [0.23991854]\n",
            " [0.23984771]\n",
            " [0.24416896]\n",
            " [0.24186665]\n",
            " [0.23517227]\n",
            " [0.23428676]\n",
            " [0.2575578 ]\n",
            " [0.26198532]\n",
            " [0.26095808]\n",
            " [0.29630743]\n",
            " [0.33410074]\n",
            " [0.33229436]\n",
            " [0.32602501]\n",
            " [0.34100768]\n",
            " [0.33998053]\n",
            " [0.32832732]\n",
            " [0.31493848]\n",
            " [0.3043478 ]\n",
            " [0.32662714]\n",
            " [0.34277868]\n",
            " [0.37178786]\n",
            " [0.37224834]\n",
            " [0.38549545]\n",
            " [0.37143366]\n",
            " [0.36243688]\n",
            " [0.34511645]\n",
            " [0.34734794]\n",
            " [0.32453729]\n",
            " [0.33888247]\n",
            " [0.32163286]\n",
            " [0.31879924]\n",
            " [0.33172761]\n",
            " [0.34061811]\n",
            " [0.3303108 ]\n",
            " [0.33027543]\n",
            " [0.32173914]\n",
            " [0.32404145]\n",
            " [0.32938993]\n",
            " [0.32584791]\n",
            " [0.33406537]\n",
            " [0.35329854]\n",
            " [0.35715931]\n",
            " [0.35492782]\n",
            " [0.38113875]\n",
            " [0.40044274]\n",
            " [0.41174183]\n",
            " [0.40766851]\n",
            " [0.39357126]\n",
            " [0.41368994]\n",
            " [0.43246263]\n",
            " [0.43168332]\n",
            " [0.40781016]\n",
            " [0.39555474]\n",
            " [0.42587445]\n",
            " [0.41312318]\n",
            " [0.42073852]\n",
            " [0.44330115]\n",
            " [0.44177807]\n",
            " [0.43150622]\n",
            " [0.41581515]\n",
            " [0.41641728]\n",
            " [0.39895511]\n",
            " [0.40263878]\n",
            " [0.4004782 ]\n",
            " [0.41138763]\n",
            " [0.40876648]\n",
            " [0.40667673]\n",
            " [0.40922696]\n",
            " [0.43912156]\n",
            " [0.41036039]\n",
            " [0.42346586]\n",
            " [0.44163642]\n",
            " [0.42952274]\n",
            " [0.44397419]\n",
            " [0.44397419]\n",
            " [0.45265213]\n",
            " [0.45534401]\n",
            " [0.43837778]\n",
            " [0.40904986]\n",
            " [0.37784466]\n",
            " [0.34738331]\n",
            " [0.34362882]\n",
            " [0.33009833]\n",
            " [0.35021692]\n",
            " [0.34770214]\n",
            " [0.35368812]\n",
            " [0.35514038]\n",
            " [0.39658198]\n",
            " [0.4064288 ]\n",
            " [0.40685383]\n",
            " [0.40224921]\n",
            " [0.40433896]\n",
            " [0.38577883]\n",
            " [0.39505889]\n",
            " [0.38747901]\n",
            " [0.39930932]\n",
            " [0.39959269]\n",
            " [0.42088017]\n",
            " [0.41482337]\n",
            " [0.39760913]\n",
            " [0.38878954]\n",
            " [0.39180026]\n",
            " [0.39888429]\n",
            " [0.4010095 ]\n",
            " [0.39753831]\n",
            " [0.39066683]\n",
            " [0.36569561]\n",
            " [0.36477465]\n",
            " [0.36218896]\n",
            " [0.375932  ]\n",
            " [0.36371204]\n",
            " [0.35159836]\n",
            " [0.37529442]\n",
            " [0.37409017]\n",
            " [0.3599221 ]\n",
            " [0.34501017]\n",
            " [0.35616753]\n",
            " [0.36300364]\n",
            " [0.36587271]\n",
            " [0.36689986]\n",
            " [0.35227131]\n",
            " [0.3442664 ]\n",
            " [0.36413707]\n",
            " [0.36325156]\n",
            " [0.3651643 ]\n",
            " [0.36442044]\n",
            " [0.36130345]\n",
            " [0.37327549]\n",
            " [0.36537677]\n",
            " [0.3512087 ]\n",
            " [0.34210574]\n",
            " [0.36442044]\n",
            " [0.35949708]\n",
            " [0.34926059]\n",
            " [0.32970867]\n",
            " [0.31716997]\n",
            " [0.31515095]\n",
            " [0.29386348]\n",
            " [0.28348535]\n",
            " [0.293403  ]\n",
            " [0.29630743]\n",
            " [0.26726289]\n",
            " [0.25660147]\n",
            " [0.24321263]\n",
            " [0.27363852]\n",
            " [0.28054546]\n",
            " [0.36034712]\n",
            " [0.36991057]\n",
            " [0.36264944]\n",
            " [0.37299211]\n",
            " [0.36119717]\n",
            " [0.35765516]\n",
            " [0.34051183]\n",
            " [0.36112635]\n",
            " [0.35471535]\n",
            " [0.36041795]\n",
            " [0.35223594]\n",
            " [0.33696981]\n",
            " [0.34178699]\n",
            " [0.31192776]\n",
            " [0.30820865]\n",
            " [0.30640218]\n",
            " [0.32333304]\n",
            " [0.32312049]\n",
            " [0.33176306]\n",
            " [0.31472592]\n",
            " [0.32552908]\n",
            " [0.3150093 ]\n",
            " [0.3055875 ]\n",
            " [0.31143183]\n",
            " [0.29255295]\n",
            " [0.34589568]\n",
            " [0.33516335]\n",
            " [0.36314528]\n",
            " [0.3637475 ]\n",
            " [0.37596746]\n",
            " [0.3846454 ]\n",
            " [0.40108032]\n",
            " [0.38170551]\n",
            " [0.38606221]\n",
            " [0.38397236]\n",
            " [0.38538917]\n",
            " [0.3957673 ]\n",
            " [0.42268663]\n",
            " [0.41549632]\n",
            " [0.41932171]\n",
            " [0.42367841]\n",
            " [0.42948729]\n",
            " [0.44659525]\n",
            " [0.46065704]\n",
            " [0.45909858]\n",
            " [0.44369081]\n",
            " [0.47489593]\n",
            " [0.47117681]\n",
            " [0.49657315]\n",
            " [0.50510936]\n",
            " [0.4946604 ]\n",
            " [0.48938283]\n",
            " [0.48991414]\n",
            " [0.48258218]\n",
            " [0.47379796]\n",
            " [0.49058709]\n",
            " [0.48130702]\n",
            " [0.46876831]\n",
            " [0.50029226]\n",
            " [0.49352698]\n",
            " [0.49926503]\n",
            " [0.49101211]\n",
            " [0.52682194]\n",
            " [0.55367045]\n",
            " [0.54655096]\n",
            " [0.55285577]\n",
            " [0.56351727]\n",
            " [0.56259631]\n",
            " [0.56939697]\n",
            " [0.57679984]\n",
            " [0.55614986]\n",
            " [0.58119191]\n",
            " [0.57580806]\n",
            " [0.55724783]\n",
            " [0.5559373 ]\n",
            " [0.55880637]\n",
            " [0.57134508]\n",
            " [0.56380057]\n",
            " [0.5641194 ]\n",
            " [0.56822809]\n",
            " [0.57864167]\n",
            " [0.56709466]\n",
            " [0.56433187]\n",
            " [0.57364739]\n",
            " [0.59780393]\n",
            " [0.59011777]\n",
            " [0.57049503]\n",
            " [0.55282031]\n",
            " [0.53082444]\n",
            " [0.54991588]\n",
            " [0.5512264 ]\n",
            " [0.52986811]\n",
            " [0.52671566]\n",
            " [0.54492168]\n",
            " [0.54623221]\n",
            " [0.52097761]\n",
            " [0.53734171]\n",
            " [0.52923053]\n",
            " [0.55391837]\n",
            " [0.55367045]\n",
            " [0.5508722 ]\n",
            " [0.54074208]\n",
            " [0.53681041]\n",
            " [0.54676351]\n",
            " [0.57729569]\n",
            " [0.54283184]\n",
            " [0.5439299 ]\n",
            " [0.54354024]\n",
            " [0.53893562]\n",
            " [0.53518113]\n",
            " [0.52455508]\n",
            " [0.49990261]\n",
            " [0.50564066]\n",
            " [0.48006731]\n",
            " [0.45732758]\n",
            " [0.43880281]\n",
            " [0.46777653]\n",
            " [0.48343223]\n",
            " [0.49002041]\n",
            " [0.47291245]\n",
            " [0.47429381]\n",
            " [0.48644294]\n",
            " [0.49887546]\n",
            " [0.50160279]\n",
            " [0.51113079]\n",
            " [0.50450723]\n",
            " [0.49682107]\n",
            " [0.52260697]\n",
            " [0.5099619 ]\n",
            " [0.48091736]\n",
            " [0.46069249]\n",
            " [0.44340743]\n",
            " [0.43933411]\n",
            " [0.39853009]\n",
            " [0.38967505]\n",
            " [0.40858938]\n",
            " [0.4063579 ]\n",
            " [0.38613303]\n",
            " [0.35769061]\n",
            " [0.24657755]\n",
            " [0.27448866]\n",
            " [0.21034269]\n",
            " [0.24030819]\n",
            " [0.17683522]\n",
            " [0.1713805 ]\n",
            " [0.14339856]\n",
            " [0.10741168]\n",
            " [0.17842912]\n",
            " [0.08357388]\n",
            " [0.12561765]\n",
            " [0.22397946]\n",
            " [0.21260955]\n",
            " [0.21218452]\n",
            " [0.18728412]\n",
            " [0.24629417]\n",
            " [0.2227043 ]\n",
            " [0.22057909]\n",
            " [0.31171521]\n",
            " [0.30183302]\n",
            " [0.32152658]\n",
            " [0.29970781]\n",
            " [0.27186751]\n",
            " [0.28476051]\n",
            " [0.32439565]\n",
            " [0.33842207]\n",
            " [0.33385282]\n",
            " [0.42328876]\n",
            " [0.42846014]\n",
            " [0.46111752]\n",
            " [0.47014966]\n",
            " [0.46901623]\n",
            " [0.4681661 ]\n",
            " [0.48607456]\n",
            " [0.46446116]\n",
            " [0.48232007]\n",
            " [0.48239089]\n",
            " [0.51481454]\n",
            " [0.55330206]\n",
            " [0.56382893]\n",
            " [0.4953759 ]\n",
            " [0.51740014]\n",
            " [0.47454173]\n",
            " [0.49115384]\n",
            " [0.4779421 ]\n",
            " [0.45537947]\n",
            " [0.47294782]\n",
            " [0.4782963 ]\n",
            " [0.47142482]\n",
            " [0.4661118 ]\n",
            " [0.48134247]\n",
            " [0.50025681]\n",
            " [0.49469586]\n",
            " [0.534331  ]\n",
            " [0.54520497]\n",
            " [0.54942003]\n",
            " [0.57644564]\n",
            " [0.57779153]\n",
            " [0.56914905]\n",
            " [0.54623221]\n",
            " [0.57102633]\n",
            " [0.54662178]\n",
            " [0.58282127]\n",
            " [0.60106266]\n",
            " [0.60329406]\n",
            " [0.60162933]\n",
            " [0.63035512]\n",
            " [0.70367488]\n",
            " [0.69428854]\n",
            " [0.67640135]\n",
            " [0.68132472]\n",
            " [0.67427614]\n",
            " [0.69110072]\n",
            " [0.67799526]\n",
            " [0.66450014]\n",
            " [0.68823165]\n",
            " [0.70434783]\n",
            " [0.72386438]\n",
            " [0.76913138]\n",
            " [0.74904807]\n",
            " [0.73101924]\n",
            " [0.74961483]\n",
            " [0.78772697]\n",
            " [0.82807051]\n",
            " [0.81531925]\n",
            " [0.7636058 ]\n",
            " [0.76318077]\n",
            " [0.81156468]\n",
            " [0.81737364]\n",
            " [0.85396269]\n",
            " [0.87695035]\n",
            " [0.91506249]\n",
            " [0.97764984]\n",
            " [0.98476933]\n",
            " [1.        ]\n",
            " [0.94258386]\n",
            " [0.95122653]\n",
            " [0.92165068]\n",
            " [0.88049237]\n",
            " [0.98080237]\n",
            " [0.96369432]\n",
            " [0.96911371]]\n"
          ],
          "name": "stdout"
        }
      ]
    },
    {
      "cell_type": "code",
      "metadata": {
        "id": "l9jYqK7BRHWv",
        "colab_type": "code",
        "colab": {}
      },
      "source": [
        "##splitting dataset into train and test split\n",
        "training_size=int(len(df1)*0.65)\n",
        "test_size=len(df1)-training_size\n",
        "train_data,test_data=df1[0:training_size,:],df1[training_size:len(df1),:1]"
      ],
      "execution_count": null,
      "outputs": []
    },
    {
      "cell_type": "code",
      "metadata": {
        "id": "qSUOCNljSDOd",
        "colab_type": "code",
        "colab": {
          "base_uri": "https://localhost:8080/",
          "height": 35
        },
        "outputId": "2c4f9bf2-756c-4317-9d25-27a5573a498d"
      },
      "source": [
        "training_size,test_size"
      ],
      "execution_count": null,
      "outputs": [
        {
          "output_type": "execute_result",
          "data": {
            "text/plain": [
              "(479, 258)"
            ]
          },
          "metadata": {
            "tags": []
          },
          "execution_count": 51
        }
      ]
    },
    {
      "cell_type": "code",
      "metadata": {
        "id": "gedhGlPvSLY1",
        "colab_type": "code",
        "colab": {}
      },
      "source": [
        "import numpy\n",
        "# convert an array of values into a dataset matrix\n",
        "def create_dataset(dataset, time_step=1):\n",
        "\tdataX, dataY = [], []\n",
        "\tfor i in range(len(dataset)-time_step-1):\n",
        "\t\ta = dataset[i:(i+time_step), 0]   ###i=0, 0,1,2,3-----99   100 \n",
        "\t\tdataX.append(a)\n",
        "\t\tdataY.append(dataset[i + time_step, 0])\n",
        "\treturn numpy.array(dataX), numpy.array(dataY)"
      ],
      "execution_count": null,
      "outputs": []
    },
    {
      "cell_type": "code",
      "metadata": {
        "id": "m-DHSwHoTLzR",
        "colab_type": "code",
        "colab": {}
      },
      "source": [
        "# reshape into X=t,t+1,t+2,t+3 and Y=t+4\n",
        "time_step = 50\n",
        "X_train, y_train = create_dataset(train_data, time_step)\n",
        "X_test, ytest = create_dataset(test_data, time_step)"
      ],
      "execution_count": null,
      "outputs": []
    },
    {
      "cell_type": "code",
      "metadata": {
        "id": "upoHShr1TmXU",
        "colab_type": "code",
        "colab": {
          "base_uri": "https://localhost:8080/",
          "height": 72
        },
        "outputId": "0f172532-1b74-4fa1-9fa1-b9028e430a41"
      },
      "source": [
        "print(X_train.shape), print(y_train.shape)"
      ],
      "execution_count": null,
      "outputs": [
        {
          "output_type": "stream",
          "text": [
            "(428, 50)\n",
            "(428,)\n"
          ],
          "name": "stdout"
        },
        {
          "output_type": "execute_result",
          "data": {
            "text/plain": [
              "(None, None)"
            ]
          },
          "metadata": {
            "tags": []
          },
          "execution_count": 54
        }
      ]
    },
    {
      "cell_type": "code",
      "metadata": {
        "id": "NMhf85weTqYT",
        "colab_type": "code",
        "colab": {
          "base_uri": "https://localhost:8080/",
          "height": 256
        },
        "outputId": "02b68443-76b1-43b6-9830-f6f906fca680"
      },
      "source": [
        "X_train"
      ],
      "execution_count": null,
      "outputs": [
        {
          "output_type": "execute_result",
          "data": {
            "text/plain": [
              "array([[0.02982377, 0.02493581, 0.02360755, ..., 0.07843796, 0.07670236,\n",
              "        0.10514478],\n",
              "       [0.02493581, 0.02360755, 0.01848931, ..., 0.07670236, 0.10514478,\n",
              "        0.10188614],\n",
              "       [0.02360755, 0.01848931, 0.00499424, ..., 0.10514478, 0.10188614,\n",
              "        0.12303196],\n",
              "       ...,\n",
              "       [0.45265213, 0.45534401, 0.43837778, ..., 0.36413707, 0.36325156,\n",
              "        0.3651643 ],\n",
              "       [0.45534401, 0.43837778, 0.40904986, ..., 0.36325156, 0.3651643 ,\n",
              "        0.36442044],\n",
              "       [0.43837778, 0.40904986, 0.37784466, ..., 0.3651643 , 0.36442044,\n",
              "        0.36130345]])"
            ]
          },
          "metadata": {
            "tags": []
          },
          "execution_count": 58
        }
      ]
    },
    {
      "cell_type": "code",
      "metadata": {
        "id": "Vv1QOBCwT2dv",
        "colab_type": "code",
        "colab": {
          "base_uri": "https://localhost:8080/",
          "height": 72
        },
        "outputId": "02c91dbe-d710-4250-9cfa-f08fb115b89d"
      },
      "source": [
        "print(X_test.shape), print(ytest.shape)"
      ],
      "execution_count": null,
      "outputs": [
        {
          "output_type": "stream",
          "text": [
            "(207, 50)\n",
            "(207,)\n"
          ],
          "name": "stdout"
        },
        {
          "output_type": "execute_result",
          "data": {
            "text/plain": [
              "(None, None)"
            ]
          },
          "metadata": {
            "tags": []
          },
          "execution_count": 59
        }
      ]
    },
    {
      "cell_type": "code",
      "metadata": {
        "id": "rjcQ1w45UEDO",
        "colab_type": "code",
        "colab": {}
      },
      "source": [
        "# reshape input to be [samples, time steps, features] which is required for LSTM\n",
        "X_train =X_train.reshape(X_train.shape[0],X_train.shape[1] , 1)\n",
        "X_test = X_test.reshape(X_test.shape[0],X_test.shape[1] , 1)"
      ],
      "execution_count": null,
      "outputs": []
    },
    {
      "cell_type": "code",
      "metadata": {
        "id": "WqdZ8khjUU5i",
        "colab_type": "code",
        "colab": {
          "base_uri": "https://localhost:8080/",
          "height": 35
        },
        "outputId": "a9e9f62f-fd08-49bf-cf64-64453e37cf02"
      },
      "source": [
        "X_train.shape"
      ],
      "execution_count": null,
      "outputs": [
        {
          "output_type": "execute_result",
          "data": {
            "text/plain": [
              "(428, 50, 1)"
            ]
          },
          "metadata": {
            "tags": []
          },
          "execution_count": 61
        }
      ]
    },
    {
      "cell_type": "code",
      "metadata": {
        "id": "LlciaYiVU28k",
        "colab_type": "code",
        "colab": {
          "base_uri": "https://localhost:8080/",
          "height": 35
        },
        "outputId": "d829b4cf-3be3-49fa-888f-7f82db97c951"
      },
      "source": [
        "X_test.shape"
      ],
      "execution_count": null,
      "outputs": [
        {
          "output_type": "execute_result",
          "data": {
            "text/plain": [
              "(207, 50, 1)"
            ]
          },
          "metadata": {
            "tags": []
          },
          "execution_count": 62
        }
      ]
    },
    {
      "cell_type": "code",
      "metadata": {
        "id": "vbKDO8fSVKCy",
        "colab_type": "code",
        "colab": {}
      },
      "source": [
        "### Create the Stacked LSTM model\n",
        "from tensorflow.keras.models import Sequential\n",
        "from tensorflow.keras.layers import LSTM,Dense\n"
      ],
      "execution_count": null,
      "outputs": []
    },
    {
      "cell_type": "code",
      "metadata": {
        "id": "8ZNMDofLWVtT",
        "colab_type": "code",
        "colab": {}
      },
      "source": [
        "model=Sequential()"
      ],
      "execution_count": null,
      "outputs": []
    },
    {
      "cell_type": "code",
      "metadata": {
        "id": "fKtAIn9BWZ4y",
        "colab_type": "code",
        "colab": {}
      },
      "source": [
        "model=Sequential()\n",
        "model.add(LSTM(30,return_sequences=True,input_shape=(50,1)))\n",
        "model.add(LSTM(20,return_sequences=True))\n",
        "model.add(LSTM(20))\n",
        "model.add(Dense(1))\n",
        "model.compile(loss='mean_squared_error',optimizer='adam')"
      ],
      "execution_count": null,
      "outputs": []
    },
    {
      "cell_type": "code",
      "metadata": {
        "id": "t98w_A9nY4Ay",
        "colab_type": "code",
        "colab": {
          "base_uri": "https://localhost:8080/",
          "height": 311
        },
        "outputId": "08c38ec5-2a62-46ee-b5d1-68a4dab1b17d"
      },
      "source": [
        "model.summary()"
      ],
      "execution_count": null,
      "outputs": [
        {
          "output_type": "stream",
          "text": [
            "Model: \"sequential_2\"\n",
            "_________________________________________________________________\n",
            "Layer (type)                 Output Shape              Param #   \n",
            "=================================================================\n",
            "lstm_5 (LSTM)                (None, 50, 30)            3840      \n",
            "_________________________________________________________________\n",
            "lstm_6 (LSTM)                (None, 50, 20)            4080      \n",
            "_________________________________________________________________\n",
            "lstm_7 (LSTM)                (None, 20)                3280      \n",
            "_________________________________________________________________\n",
            "dense_1 (Dense)              (None, 1)                 21        \n",
            "=================================================================\n",
            "Total params: 11,221\n",
            "Trainable params: 11,221\n",
            "Non-trainable params: 0\n",
            "_________________________________________________________________\n"
          ],
          "name": "stdout"
        }
      ]
    },
    {
      "cell_type": "code",
      "metadata": {
        "id": "ZBEML5fnY_U3",
        "colab_type": "code",
        "colab": {
          "base_uri": "https://localhost:8080/",
          "height": 1000
        },
        "outputId": "ab03fc0c-be51-48a7-b67e-d3588c355058"
      },
      "source": [
        "model.fit(X_train,y_train,validation_data=(X_test,ytest),epochs=100,batch_size=64,verbose=1)"
      ],
      "execution_count": null,
      "outputs": [
        {
          "output_type": "stream",
          "text": [
            "Epoch 1/100\n",
            "7/7 [==============================] - 0s 59ms/step - loss: 0.0014 - val_loss: 0.0164\n",
            "Epoch 2/100\n",
            "7/7 [==============================] - 1s 73ms/step - loss: 0.0013 - val_loss: 0.0161\n",
            "Epoch 3/100\n",
            "7/7 [==============================] - 0s 55ms/step - loss: 0.0013 - val_loss: 0.0147\n",
            "Epoch 4/100\n",
            "7/7 [==============================] - 0s 56ms/step - loss: 0.0013 - val_loss: 0.0163\n",
            "Epoch 5/100\n",
            "7/7 [==============================] - 0s 56ms/step - loss: 0.0013 - val_loss: 0.0138\n",
            "Epoch 6/100\n",
            "7/7 [==============================] - 0s 56ms/step - loss: 0.0013 - val_loss: 0.0151\n",
            "Epoch 7/100\n",
            "7/7 [==============================] - 0s 56ms/step - loss: 0.0013 - val_loss: 0.0126\n",
            "Epoch 8/100\n",
            "7/7 [==============================] - 0s 56ms/step - loss: 0.0013 - val_loss: 0.0156\n",
            "Epoch 9/100\n",
            "7/7 [==============================] - 0s 54ms/step - loss: 0.0012 - val_loss: 0.0118\n",
            "Epoch 10/100\n",
            "7/7 [==============================] - 0s 55ms/step - loss: 0.0012 - val_loss: 0.0127\n",
            "Epoch 11/100\n",
            "7/7 [==============================] - 0s 55ms/step - loss: 0.0011 - val_loss: 0.0121\n",
            "Epoch 12/100\n",
            "7/7 [==============================] - 0s 70ms/step - loss: 0.0011 - val_loss: 0.0107\n",
            "Epoch 13/100\n",
            "7/7 [==============================] - 0s 67ms/step - loss: 0.0011 - val_loss: 0.0122\n",
            "Epoch 14/100\n",
            "7/7 [==============================] - 1s 75ms/step - loss: 0.0011 - val_loss: 0.0118\n",
            "Epoch 15/100\n",
            "7/7 [==============================] - 0s 62ms/step - loss: 0.0011 - val_loss: 0.0107\n",
            "Epoch 16/100\n",
            "7/7 [==============================] - 0s 62ms/step - loss: 0.0011 - val_loss: 0.0092\n",
            "Epoch 17/100\n",
            "7/7 [==============================] - 0s 62ms/step - loss: 0.0011 - val_loss: 0.0113\n",
            "Epoch 18/100\n",
            "7/7 [==============================] - 1s 72ms/step - loss: 0.0010 - val_loss: 0.0113\n",
            "Epoch 19/100\n",
            "7/7 [==============================] - 0s 64ms/step - loss: 0.0010 - val_loss: 0.0087\n",
            "Epoch 20/100\n",
            "7/7 [==============================] - 0s 55ms/step - loss: 0.0010 - val_loss: 0.0099\n",
            "Epoch 21/100\n",
            "7/7 [==============================] - 0s 56ms/step - loss: 9.8275e-04 - val_loss: 0.0124\n",
            "Epoch 22/100\n",
            "7/7 [==============================] - 0s 55ms/step - loss: 0.0010 - val_loss: 0.0114\n",
            "Epoch 23/100\n",
            "7/7 [==============================] - 0s 56ms/step - loss: 0.0010 - val_loss: 0.0100\n",
            "Epoch 24/100\n",
            "7/7 [==============================] - 0s 55ms/step - loss: 9.7055e-04 - val_loss: 0.0089\n",
            "Epoch 25/100\n",
            "7/7 [==============================] - 0s 57ms/step - loss: 9.7403e-04 - val_loss: 0.0094\n",
            "Epoch 26/100\n",
            "7/7 [==============================] - 0s 56ms/step - loss: 9.7312e-04 - val_loss: 0.0092\n",
            "Epoch 27/100\n",
            "7/7 [==============================] - 0s 57ms/step - loss: 9.4273e-04 - val_loss: 0.0104\n",
            "Epoch 28/100\n",
            "7/7 [==============================] - 0s 57ms/step - loss: 9.3298e-04 - val_loss: 0.0110\n",
            "Epoch 29/100\n",
            "7/7 [==============================] - 0s 57ms/step - loss: 9.1659e-04 - val_loss: 0.0092\n",
            "Epoch 30/100\n",
            "7/7 [==============================] - 0s 57ms/step - loss: 9.3260e-04 - val_loss: 0.0089\n",
            "Epoch 31/100\n",
            "7/7 [==============================] - 0s 56ms/step - loss: 9.3241e-04 - val_loss: 0.0087\n",
            "Epoch 32/100\n",
            "7/7 [==============================] - 0s 59ms/step - loss: 9.0701e-04 - val_loss: 0.0090\n",
            "Epoch 33/100\n",
            "7/7 [==============================] - 0s 54ms/step - loss: 8.8778e-04 - val_loss: 0.0094\n",
            "Epoch 34/100\n",
            "7/7 [==============================] - 0s 56ms/step - loss: 8.9088e-04 - val_loss: 0.0101\n",
            "Epoch 35/100\n",
            "7/7 [==============================] - 0s 70ms/step - loss: 8.9019e-04 - val_loss: 0.0113\n",
            "Epoch 36/100\n",
            "7/7 [==============================] - 0s 66ms/step - loss: 9.5632e-04 - val_loss: 0.0081\n",
            "Epoch 37/100\n",
            "7/7 [==============================] - 0s 55ms/step - loss: 9.1071e-04 - val_loss: 0.0082\n",
            "Epoch 38/100\n",
            "7/7 [==============================] - 0s 56ms/step - loss: 8.7432e-04 - val_loss: 0.0096\n",
            "Epoch 39/100\n",
            "7/7 [==============================] - 0s 55ms/step - loss: 8.5306e-04 - val_loss: 0.0097\n",
            "Epoch 40/100\n",
            "7/7 [==============================] - 0s 56ms/step - loss: 8.4143e-04 - val_loss: 0.0080\n",
            "Epoch 41/100\n",
            "7/7 [==============================] - 0s 56ms/step - loss: 8.5976e-04 - val_loss: 0.0078\n",
            "Epoch 42/100\n",
            "7/7 [==============================] - 0s 56ms/step - loss: 8.3502e-04 - val_loss: 0.0092\n",
            "Epoch 43/100\n",
            "7/7 [==============================] - 0s 57ms/step - loss: 8.1502e-04 - val_loss: 0.0082\n",
            "Epoch 44/100\n",
            "7/7 [==============================] - 0s 57ms/step - loss: 8.1496e-04 - val_loss: 0.0096\n",
            "Epoch 45/100\n",
            "7/7 [==============================] - 0s 62ms/step - loss: 8.0346e-04 - val_loss: 0.0087\n",
            "Epoch 46/100\n",
            "7/7 [==============================] - 0s 62ms/step - loss: 8.3411e-04 - val_loss: 0.0073\n",
            "Epoch 47/100\n",
            "7/7 [==============================] - 0s 62ms/step - loss: 7.9930e-04 - val_loss: 0.0096\n",
            "Epoch 48/100\n",
            "7/7 [==============================] - 0s 58ms/step - loss: 8.0766e-04 - val_loss: 0.0096\n",
            "Epoch 49/100\n",
            "7/7 [==============================] - 0s 57ms/step - loss: 7.8905e-04 - val_loss: 0.0085\n",
            "Epoch 50/100\n",
            "7/7 [==============================] - 0s 55ms/step - loss: 7.8925e-04 - val_loss: 0.0079\n",
            "Epoch 51/100\n",
            "7/7 [==============================] - 0s 55ms/step - loss: 7.7331e-04 - val_loss: 0.0085\n",
            "Epoch 52/100\n",
            "7/7 [==============================] - 0s 55ms/step - loss: 7.6170e-04 - val_loss: 0.0078\n",
            "Epoch 53/100\n",
            "7/7 [==============================] - 0s 57ms/step - loss: 7.6343e-04 - val_loss: 0.0075\n",
            "Epoch 54/100\n",
            "7/7 [==============================] - 0s 56ms/step - loss: 7.7319e-04 - val_loss: 0.0096\n",
            "Epoch 55/100\n",
            "7/7 [==============================] - 0s 56ms/step - loss: 7.5194e-04 - val_loss: 0.0090\n",
            "Epoch 56/100\n",
            "7/7 [==============================] - 0s 55ms/step - loss: 7.5425e-04 - val_loss: 0.0078\n",
            "Epoch 57/100\n",
            "7/7 [==============================] - 0s 67ms/step - loss: 7.4087e-04 - val_loss: 0.0076\n",
            "Epoch 58/100\n",
            "7/7 [==============================] - 0s 54ms/step - loss: 7.4097e-04 - val_loss: 0.0075\n",
            "Epoch 59/100\n",
            "7/7 [==============================] - 0s 56ms/step - loss: 7.3931e-04 - val_loss: 0.0067\n",
            "Epoch 60/100\n",
            "7/7 [==============================] - 0s 62ms/step - loss: 7.6193e-04 - val_loss: 0.0068\n",
            "Epoch 61/100\n",
            "7/7 [==============================] - 0s 56ms/step - loss: 7.5024e-04 - val_loss: 0.0081\n",
            "Epoch 62/100\n",
            "7/7 [==============================] - 0s 60ms/step - loss: 7.2722e-04 - val_loss: 0.0094\n",
            "Epoch 63/100\n",
            "7/7 [==============================] - 0s 62ms/step - loss: 7.4173e-04 - val_loss: 0.0085\n",
            "Epoch 64/100\n",
            "7/7 [==============================] - 0s 63ms/step - loss: 7.1263e-04 - val_loss: 0.0085\n",
            "Epoch 65/100\n",
            "7/7 [==============================] - 0s 58ms/step - loss: 6.9766e-04 - val_loss: 0.0082\n",
            "Epoch 66/100\n",
            "7/7 [==============================] - 0s 57ms/step - loss: 7.1028e-04 - val_loss: 0.0063\n",
            "Epoch 67/100\n",
            "7/7 [==============================] - 0s 56ms/step - loss: 7.0437e-04 - val_loss: 0.0076\n",
            "Epoch 68/100\n",
            "7/7 [==============================] - 0s 56ms/step - loss: 6.8364e-04 - val_loss: 0.0082\n",
            "Epoch 69/100\n",
            "7/7 [==============================] - 0s 57ms/step - loss: 7.9018e-04 - val_loss: 0.0095\n",
            "Epoch 70/100\n",
            "7/7 [==============================] - 0s 57ms/step - loss: 8.2156e-04 - val_loss: 0.0102\n",
            "Epoch 71/100\n",
            "7/7 [==============================] - 0s 57ms/step - loss: 7.3578e-04 - val_loss: 0.0089\n",
            "Epoch 72/100\n",
            "7/7 [==============================] - 0s 56ms/step - loss: 6.6791e-04 - val_loss: 0.0062\n",
            "Epoch 73/100\n",
            "7/7 [==============================] - 0s 57ms/step - loss: 7.0193e-04 - val_loss: 0.0086\n",
            "Epoch 74/100\n",
            "7/7 [==============================] - 0s 56ms/step - loss: 6.8547e-04 - val_loss: 0.0089\n",
            "Epoch 75/100\n",
            "7/7 [==============================] - 0s 57ms/step - loss: 6.8247e-04 - val_loss: 0.0067\n",
            "Epoch 76/100\n",
            "7/7 [==============================] - 0s 56ms/step - loss: 6.9357e-04 - val_loss: 0.0059\n",
            "Epoch 77/100\n",
            "7/7 [==============================] - 0s 58ms/step - loss: 7.5118e-04 - val_loss: 0.0089\n",
            "Epoch 78/100\n",
            "7/7 [==============================] - 0s 57ms/step - loss: 6.6809e-04 - val_loss: 0.0084\n",
            "Epoch 79/100\n",
            "7/7 [==============================] - 0s 57ms/step - loss: 6.4542e-04 - val_loss: 0.0066\n",
            "Epoch 80/100\n",
            "7/7 [==============================] - 0s 56ms/step - loss: 6.4040e-04 - val_loss: 0.0081\n",
            "Epoch 81/100\n",
            "7/7 [==============================] - 0s 56ms/step - loss: 6.4383e-04 - val_loss: 0.0074\n",
            "Epoch 82/100\n",
            "7/7 [==============================] - 0s 57ms/step - loss: 6.6789e-04 - val_loss: 0.0070\n",
            "Epoch 83/100\n",
            "7/7 [==============================] - 0s 59ms/step - loss: 6.5645e-04 - val_loss: 0.0060\n",
            "Epoch 84/100\n",
            "7/7 [==============================] - 0s 61ms/step - loss: 6.4028e-04 - val_loss: 0.0070\n",
            "Epoch 85/100\n",
            "7/7 [==============================] - 0s 56ms/step - loss: 6.7857e-04 - val_loss: 0.0090\n",
            "Epoch 86/100\n",
            "7/7 [==============================] - 0s 56ms/step - loss: 6.5775e-04 - val_loss: 0.0077\n",
            "Epoch 87/100\n",
            "7/7 [==============================] - 0s 56ms/step - loss: 7.2836e-04 - val_loss: 0.0066\n",
            "Epoch 88/100\n",
            "7/7 [==============================] - 0s 65ms/step - loss: 6.6267e-04 - val_loss: 0.0061\n",
            "Epoch 89/100\n",
            "7/7 [==============================] - 0s 56ms/step - loss: 6.4551e-04 - val_loss: 0.0061\n",
            "Epoch 90/100\n",
            "7/7 [==============================] - 0s 57ms/step - loss: 6.0946e-04 - val_loss: 0.0077\n",
            "Epoch 91/100\n",
            "7/7 [==============================] - 0s 67ms/step - loss: 6.3644e-04 - val_loss: 0.0085\n",
            "Epoch 92/100\n",
            "7/7 [==============================] - 0s 62ms/step - loss: 6.6617e-04 - val_loss: 0.0083\n",
            "Epoch 93/100\n",
            "7/7 [==============================] - 0s 56ms/step - loss: 6.3822e-04 - val_loss: 0.0063\n",
            "Epoch 94/100\n",
            "7/7 [==============================] - 0s 56ms/step - loss: 6.2610e-04 - val_loss: 0.0059\n",
            "Epoch 95/100\n",
            "7/7 [==============================] - 0s 57ms/step - loss: 6.2674e-04 - val_loss: 0.0063\n",
            "Epoch 96/100\n",
            "7/7 [==============================] - 0s 56ms/step - loss: 6.1371e-04 - val_loss: 0.0075\n",
            "Epoch 97/100\n",
            "7/7 [==============================] - 0s 57ms/step - loss: 5.8319e-04 - val_loss: 0.0069\n",
            "Epoch 98/100\n",
            "7/7 [==============================] - 0s 56ms/step - loss: 5.8049e-04 - val_loss: 0.0072\n",
            "Epoch 99/100\n",
            "7/7 [==============================] - 0s 58ms/step - loss: 5.7853e-04 - val_loss: 0.0072\n",
            "Epoch 100/100\n",
            "7/7 [==============================] - 0s 58ms/step - loss: 5.7630e-04 - val_loss: 0.0070\n"
          ],
          "name": "stdout"
        },
        {
          "output_type": "execute_result",
          "data": {
            "text/plain": [
              "<tensorflow.python.keras.callbacks.History at 0x7f7b0817a630>"
            ]
          },
          "metadata": {
            "tags": []
          },
          "execution_count": 83
        }
      ]
    },
    {
      "cell_type": "code",
      "metadata": {
        "id": "FLExRTTjaWd4",
        "colab_type": "code",
        "colab": {}
      },
      "source": [
        "### Lets Do the prediction and check performance metrics\n",
        "train_predict=model.predict(X_train)\n",
        "test_predict=model.predict(X_test)"
      ],
      "execution_count": null,
      "outputs": []
    },
    {
      "cell_type": "code",
      "metadata": {
        "id": "Dbn5oXdjeanw",
        "colab_type": "code",
        "colab": {}
      },
      "source": [
        "#Transformback to original form\n",
        "train_predict=scaler.inverse_transform(train_predict)\n",
        "test_predict=scaler.inverse_transform(test_predict)"
      ],
      "execution_count": null,
      "outputs": []
    },
    {
      "cell_type": "code",
      "metadata": {
        "id": "hAL2E7HieesO",
        "colab_type": "code",
        "colab": {
          "base_uri": "https://localhost:8080/",
          "height": 35
        },
        "outputId": "3e5041bf-9543-42be-a067-3f2ac5c69fcb"
      },
      "source": [
        "### Calculate RMSE performance metrics\n",
        "import math\n",
        "from sklearn.metrics import mean_squared_error\n",
        "math.sqrt(mean_squared_error(y_train,train_predict))"
      ],
      "execution_count": null,
      "outputs": [
        {
          "output_type": "execute_result",
          "data": {
            "text/plain": [
              "1107.4584614968035"
            ]
          },
          "metadata": {
            "tags": []
          },
          "execution_count": 86
        }
      ]
    },
    {
      "cell_type": "code",
      "metadata": {
        "id": "SQxSu0Keereo",
        "colab_type": "code",
        "colab": {
          "base_uri": "https://localhost:8080/",
          "height": 35
        },
        "outputId": "f10d690e-1988-45be-f037-b18ff6cd8e4c"
      },
      "source": [
        "## Test Data RMSE\n",
        "math.sqrt(mean_squared_error(ytest,test_predict))"
      ],
      "execution_count": null,
      "outputs": [
        {
          "output_type": "execute_result",
          "data": {
            "text/plain": [
              "1441.2177110944288"
            ]
          },
          "metadata": {
            "tags": []
          },
          "execution_count": 87
        }
      ]
    },
    {
      "cell_type": "code",
      "metadata": {
        "id": "wJx6d_FUexVD",
        "colab_type": "code",
        "colab": {
          "base_uri": "https://localhost:8080/",
          "height": 265
        },
        "outputId": "39b9c307-00f9-4243-9e4d-f41851c3c5eb"
      },
      "source": [
        "### Plotting \n",
        "# shift train predictions for plotting\n",
        "look_back=50\n",
        "trainPredictPlot = numpy.empty_like(df1)\n",
        "trainPredictPlot[:, :] = np.nan\n",
        "trainPredictPlot[look_back:len(train_predict)+look_back, :] = train_predict\n",
        "# shift test predictions for plotting\n",
        "testPredictPlot = numpy.empty_like(df1)\n",
        "testPredictPlot[:, :] = numpy.nan\n",
        "testPredictPlot[len(train_predict)+(look_back*2)+1:len(df1)-1, :] = test_predict\n",
        "# plot baseline and predictions\n",
        "plt.plot(scaler.inverse_transform(df1))\n",
        "plt.plot(trainPredictPlot)\n",
        "plt.plot(testPredictPlot)\n",
        "plt.show()"
      ],
      "execution_count": null,
      "outputs": [
        {
          "output_type": "display_data",
          "data": {
            "image/png": "[encoded data removed]",
            "text/plain": [
              "<Figure size 432x288 with 1 Axes>"
            ]
          },
          "metadata": {
            "tags": [],
            "needs_background": "light"
          }
        }
      ]
    },
    {
      "cell_type": "code",
      "metadata": {
        "id": "fMQOD32se06Q",
        "colab_type": "code",
        "colab": {
          "base_uri": "https://localhost:8080/",
          "height": 35
        },
        "outputId": "303aac86-ef41-419d-a5b6-cc0000d245a6"
      },
      "source": [
        "len(test_data)"
      ],
      "execution_count": null,
      "outputs": [
        {
          "output_type": "execute_result",
          "data": {
            "text/plain": [
              "258"
            ]
          },
          "metadata": {
            "tags": []
          },
          "execution_count": 90
        }
      ]
    },
    {
      "cell_type": "code",
      "metadata": {
        "id": "yAGIwHpOfFyj",
        "colab_type": "code",
        "colab": {
          "base_uri": "https://localhost:8080/",
          "height": 35
        },
        "outputId": "a1c6891c-3aad-49ea-bcca-dc01a32b2d6d"
      },
      "source": [
        "x_input=test_data[208:].reshape(1,-1)\n",
        "x_input.shape"
      ],
      "execution_count": null,
      "outputs": [
        {
          "output_type": "execute_result",
          "data": {
            "text/plain": [
              "(1, 50)"
            ]
          },
          "metadata": {
            "tags": []
          },
          "execution_count": 99
        }
      ]
    },
    {
      "cell_type": "code",
      "metadata": {
        "id": "R-ZMPNO-fKd3",
        "colab_type": "code",
        "colab": {}
      },
      "source": [
        "temp_input=list(x_input)\n",
        "temp_input=temp_input[0].tolist()"
      ],
      "execution_count": null,
      "outputs": []
    },
    {
      "cell_type": "code",
      "metadata": {
        "id": "fm_2aqAOfPYA",
        "colab_type": "code",
        "colab": {
          "base_uri": "https://localhost:8080/",
          "height": 935
        },
        "outputId": "f279ef4c-f924-4b06-8399-d01864018539"
      },
      "source": [
        "temp_input"
      ],
      "execution_count": null,
      "outputs": [
        {
          "output_type": "execute_result",
          "data": {
            "text/plain": [
              "[0.4946958591527122,\n",
              " 0.5343309990926703,\n",
              " 0.5452049745913423,\n",
              " 0.5494200269296885,\n",
              " 0.5764456368817383,\n",
              " 0.577791534044299,\n",
              " 0.5691490464663715,\n",
              " 0.5462322113310298,\n",
              " 0.5710263326539318,\n",
              " 0.5466217815240795,\n",
              " 0.5828212680790559,\n",
              " 0.601062657338048,\n",
              " 0.6032940588335696,\n",
              " 0.6016293283976899,\n",
              " 0.6303551229623041,\n",
              " 0.7036748817314566,\n",
              " 0.6942885358020725,\n",
              " 0.6764013482762645,\n",
              " 0.6813247183641604,\n",
              " 0.6742761378771587,\n",
              " 0.6911007202034136,\n",
              " 0.677995256075594,\n",
              " 0.6645001360379057,\n",
              " 0.6882316521612546,\n",
              " 0.7043478310211408,\n",
              " 0.7238643805229625,\n",
              " 0.7691313797340045,\n",
              " 0.7490480720389143,\n",
              " 0.7310192385316026,\n",
              " 0.749614829523779,\n",
              " 0.7877269707261809,\n",
              " 0.8280705134241044,\n",
              " 0.8153192510294691,\n",
              " 0.7636057979845594,\n",
              " 0.7631807729064213,\n",
              " 0.8115646779459456,\n",
              " 0.8173736380836212,\n",
              " 0.8539626948316474,\n",
              " 0.8769503526035396,\n",
              " 0.9150624938059415,\n",
              " 0.9776498359243,\n",
              " 0.9847693254730745,\n",
              " 1.0,\n",
              " 0.9425838643390532,\n",
              " 0.9512265254758296,\n",
              " 0.9216506807549394,\n",
              " 0.8804923699353826,\n",
              " 0.9808023701967197,\n",
              " 0.9636943223486079,\n",
              " 0.9691137130016374]"
            ]
          },
          "metadata": {
            "tags": []
          },
          "execution_count": 101
        }
      ]
    },
    {
      "cell_type": "code",
      "metadata": {
        "id": "9BTC0cUifSkI",
        "colab_type": "code",
        "colab": {
          "base_uri": "https://localhost:8080/",
          "height": 1000
        },
        "outputId": "20b1f114-8cc9-473e-8640-403bcae1cae0"
      },
      "source": [
        "# demonstrate prediction for next 10 days\n",
        "from numpy import array\n",
        "\n",
        "lst_output=[]\n",
        "n_steps=50\n",
        "i=0\n",
        "while(i<30):\n",
        "    \n",
        "    if(len(temp_input)>50):\n",
        "        #print(temp_input)\n",
        "        x_input=np.array(temp_input[1:])\n",
        "        print(\"{} day input {}\".format(i,x_input))\n",
        "        x_input=x_input.reshape(1,-1)\n",
        "        x_input = x_input.reshape((1, n_steps, 1))\n",
        "        #print(x_input)\n",
        "        yhat = model.predict(x_input, verbose=0)\n",
        "        print(\"{} day output {}\".format(i,yhat))\n",
        "        temp_input.extend(yhat[0].tolist())\n",
        "        temp_input=temp_input[1:]\n",
        "        #print(temp_input)\n",
        "        lst_output.extend(yhat.tolist())\n",
        "        i=i+1\n",
        "    else:\n",
        "        x_input = x_input.reshape((1, n_steps,1))\n",
        "        yhat = model.predict(x_input, verbose=0)\n",
        "        print(yhat[0])\n",
        "        temp_input.extend(yhat[0].tolist())\n",
        "        print(len(temp_input))\n",
        "        lst_output.extend(yhat.tolist())\n",
        "        i=i+1\n",
        "    \n",
        "\n",
        "print(lst_output)"
      ],
      "execution_count": null,
      "outputs": [
        {
          "output_type": "stream",
          "text": [
            "[0.7354639]\n",
            "51\n",
            "1 day input [0.534331   0.54520497 0.54942003 0.57644564 0.57779153 0.56914905\n",
            " 0.54623221 0.57102633 0.54662178 0.58282127 0.60106266 0.60329406\n",
            " 0.60162933 0.63035512 0.70367488 0.69428854 0.67640135 0.68132472\n",
            " 0.67427614 0.69110072 0.67799526 0.66450014 0.68823165 0.70434783\n",
            " 0.72386438 0.76913138 0.74904807 0.73101924 0.74961483 0.78772697\n",
            " 0.82807051 0.81531925 0.7636058  0.76318077 0.81156468 0.81737364\n",
            " 0.85396269 0.87695035 0.91506249 0.97764984 0.98476933 1.\n",
            " 0.94258386 0.95122653 0.92165068 0.88049237 0.98080237 0.96369432\n",
            " 0.96911371 0.73546392]\n",
            "1 day output [[0.7182845]]\n",
            "2 day input [0.54520497 0.54942003 0.57644564 0.57779153 0.56914905 0.54623221\n",
            " 0.57102633 0.54662178 0.58282127 0.60106266 0.60329406 0.60162933\n",
            " 0.63035512 0.70367488 0.69428854 0.67640135 0.68132472 0.67427614\n",
            " 0.69110072 0.67799526 0.66450014 0.68823165 0.70434783 0.72386438\n",
            " 0.76913138 0.74904807 0.73101924 0.74961483 0.78772697 0.82807051\n",
            " 0.81531925 0.7636058  0.76318077 0.81156468 0.81737364 0.85396269\n",
            " 0.87695035 0.91506249 0.97764984 0.98476933 1.         0.94258386\n",
            " 0.95122653 0.92165068 0.88049237 0.98080237 0.96369432 0.96911371\n",
            " 0.73546392 0.71828449]\n",
            "2 day output [[0.6914237]]\n",
            "3 day input [0.54942003 0.57644564 0.57779153 0.56914905 0.54623221 0.57102633\n",
            " 0.54662178 0.58282127 0.60106266 0.60329406 0.60162933 0.63035512\n",
            " 0.70367488 0.69428854 0.67640135 0.68132472 0.67427614 0.69110072\n",
            " 0.67799526 0.66450014 0.68823165 0.70434783 0.72386438 0.76913138\n",
            " 0.74904807 0.73101924 0.74961483 0.78772697 0.82807051 0.81531925\n",
            " 0.7636058  0.76318077 0.81156468 0.81737364 0.85396269 0.87695035\n",
            " 0.91506249 0.97764984 0.98476933 1.         0.94258386 0.95122653\n",
            " 0.92165068 0.88049237 0.98080237 0.96369432 0.96911371 0.73546392\n",
            " 0.71828449 0.69142371]\n",
            "3 day output [[0.66078675]]\n",
            "4 day input [0.57644564 0.57779153 0.56914905 0.54623221 0.57102633 0.54662178\n",
            " 0.58282127 0.60106266 0.60329406 0.60162933 0.63035512 0.70367488\n",
            " 0.69428854 0.67640135 0.68132472 0.67427614 0.69110072 0.67799526\n",
            " 0.66450014 0.68823165 0.70434783 0.72386438 0.76913138 0.74904807\n",
            " 0.73101924 0.74961483 0.78772697 0.82807051 0.81531925 0.7636058\n",
            " 0.76318077 0.81156468 0.81737364 0.85396269 0.87695035 0.91506249\n",
            " 0.97764984 0.98476933 1.         0.94258386 0.95122653 0.92165068\n",
            " 0.88049237 0.98080237 0.96369432 0.96911371 0.73546392 0.71828449\n",
            " 0.69142371 0.66078675]\n",
            "4 day output [[0.63061213]]\n",
            "5 day input [0.57779153 0.56914905 0.54623221 0.57102633 0.54662178 0.58282127\n",
            " 0.60106266 0.60329406 0.60162933 0.63035512 0.70367488 0.69428854\n",
            " 0.67640135 0.68132472 0.67427614 0.69110072 0.67799526 0.66450014\n",
            " 0.68823165 0.70434783 0.72386438 0.76913138 0.74904807 0.73101924\n",
            " 0.74961483 0.78772697 0.82807051 0.81531925 0.7636058  0.76318077\n",
            " 0.81156468 0.81737364 0.85396269 0.87695035 0.91506249 0.97764984\n",
            " 0.98476933 1.         0.94258386 0.95122653 0.92165068 0.88049237\n",
            " 0.98080237 0.96369432 0.96911371 0.73546392 0.71828449 0.69142371\n",
            " 0.66078675 0.63061213]\n",
            "5 day output [[0.603507]]\n",
            "6 day input [0.56914905 0.54623221 0.57102633 0.54662178 0.58282127 0.60106266\n",
            " 0.60329406 0.60162933 0.63035512 0.70367488 0.69428854 0.67640135\n",
            " 0.68132472 0.67427614 0.69110072 0.67799526 0.66450014 0.68823165\n",
            " 0.70434783 0.72386438 0.76913138 0.74904807 0.73101924 0.74961483\n",
            " 0.78772697 0.82807051 0.81531925 0.7636058  0.76318077 0.81156468\n",
            " 0.81737364 0.85396269 0.87695035 0.91506249 0.97764984 0.98476933\n",
            " 1.         0.94258386 0.95122653 0.92165068 0.88049237 0.98080237\n",
            " 0.96369432 0.96911371 0.73546392 0.71828449 0.69142371 0.66078675\n",
            " 0.63061213 0.60350698]\n",
            "6 day output [[0.5807325]]\n",
            "7 day input [0.54623221 0.57102633 0.54662178 0.58282127 0.60106266 0.60329406\n",
            " 0.60162933 0.63035512 0.70367488 0.69428854 0.67640135 0.68132472\n",
            " 0.67427614 0.69110072 0.67799526 0.66450014 0.68823165 0.70434783\n",
            " 0.72386438 0.76913138 0.74904807 0.73101924 0.74961483 0.78772697\n",
            " 0.82807051 0.81531925 0.7636058  0.76318077 0.81156468 0.81737364\n",
            " 0.85396269 0.87695035 0.91506249 0.97764984 0.98476933 1.\n",
            " 0.94258386 0.95122653 0.92165068 0.88049237 0.98080237 0.96369432\n",
            " 0.96911371 0.73546392 0.71828449 0.69142371 0.66078675 0.63061213\n",
            " 0.60350698 0.58073252]\n",
            "7 day output [[0.5625934]]\n",
            "8 day input [0.57102633 0.54662178 0.58282127 0.60106266 0.60329406 0.60162933\n",
            " 0.63035512 0.70367488 0.69428854 0.67640135 0.68132472 0.67427614\n",
            " 0.69110072 0.67799526 0.66450014 0.68823165 0.70434783 0.72386438\n",
            " 0.76913138 0.74904807 0.73101924 0.74961483 0.78772697 0.82807051\n",
            " 0.81531925 0.7636058  0.76318077 0.81156468 0.81737364 0.85396269\n",
            " 0.87695035 0.91506249 0.97764984 0.98476933 1.         0.94258386\n",
            " 0.95122653 0.92165068 0.88049237 0.98080237 0.96369432 0.96911371\n",
            " 0.73546392 0.71828449 0.69142371 0.66078675 0.63061213 0.60350698\n",
            " 0.58073252 0.5625934 ]\n",
            "8 day output [[0.5488068]]\n",
            "9 day input [0.54662178 0.58282127 0.60106266 0.60329406 0.60162933 0.63035512\n",
            " 0.70367488 0.69428854 0.67640135 0.68132472 0.67427614 0.69110072\n",
            " 0.67799526 0.66450014 0.68823165 0.70434783 0.72386438 0.76913138\n",
            " 0.74904807 0.73101924 0.74961483 0.78772697 0.82807051 0.81531925\n",
            " 0.7636058  0.76318077 0.81156468 0.81737364 0.85396269 0.87695035\n",
            " 0.91506249 0.97764984 0.98476933 1.         0.94258386 0.95122653\n",
            " 0.92165068 0.88049237 0.98080237 0.96369432 0.96911371 0.73546392\n",
            " 0.71828449 0.69142371 0.66078675 0.63061213 0.60350698 0.58073252\n",
            " 0.5625934  0.54880679]\n",
            "9 day output [[0.5387764]]\n",
            "10 day input [0.58282127 0.60106266 0.60329406 0.60162933 0.63035512 0.70367488\n",
            " 0.69428854 0.67640135 0.68132472 0.67427614 0.69110072 0.67799526\n",
            " 0.66450014 0.68823165 0.70434783 0.72386438 0.76913138 0.74904807\n",
            " 0.73101924 0.74961483 0.78772697 0.82807051 0.81531925 0.7636058\n",
            " 0.76318077 0.81156468 0.81737364 0.85396269 0.87695035 0.91506249\n",
            " 0.97764984 0.98476933 1.         0.94258386 0.95122653 0.92165068\n",
            " 0.88049237 0.98080237 0.96369432 0.96911371 0.73546392 0.71828449\n",
            " 0.69142371 0.66078675 0.63061213 0.60350698 0.58073252 0.5625934\n",
            " 0.54880679 0.5387764 ]\n",
            "10 day output [[0.5317929]]\n",
            "11 day input [0.60106266 0.60329406 0.60162933 0.63035512 0.70367488 0.69428854\n",
            " 0.67640135 0.68132472 0.67427614 0.69110072 0.67799526 0.66450014\n",
            " 0.68823165 0.70434783 0.72386438 0.76913138 0.74904807 0.73101924\n",
            " 0.74961483 0.78772697 0.82807051 0.81531925 0.7636058  0.76318077\n",
            " 0.81156468 0.81737364 0.85396269 0.87695035 0.91506249 0.97764984\n",
            " 0.98476933 1.         0.94258386 0.95122653 0.92165068 0.88049237\n",
            " 0.98080237 0.96369432 0.96911371 0.73546392 0.71828449 0.69142371\n",
            " 0.66078675 0.63061213 0.60350698 0.58073252 0.5625934  0.54880679\n",
            " 0.5387764  0.53179288]\n",
            "11 day output [[0.5271343]]\n",
            "12 day input [0.60329406 0.60162933 0.63035512 0.70367488 0.69428854 0.67640135\n",
            " 0.68132472 0.67427614 0.69110072 0.67799526 0.66450014 0.68823165\n",
            " 0.70434783 0.72386438 0.76913138 0.74904807 0.73101924 0.74961483\n",
            " 0.78772697 0.82807051 0.81531925 0.7636058  0.76318077 0.81156468\n",
            " 0.81737364 0.85396269 0.87695035 0.91506249 0.97764984 0.98476933\n",
            " 1.         0.94258386 0.95122653 0.92165068 0.88049237 0.98080237\n",
            " 0.96369432 0.96911371 0.73546392 0.71828449 0.69142371 0.66078675\n",
            " 0.63061213 0.60350698 0.58073252 0.5625934  0.54880679 0.5387764\n",
            " 0.53179288 0.5271343 ]\n",
            "12 day output [[0.5241435]]\n",
            "13 day input [0.60162933 0.63035512 0.70367488 0.69428854 0.67640135 0.68132472\n",
            " 0.67427614 0.69110072 0.67799526 0.66450014 0.68823165 0.70434783\n",
            " 0.72386438 0.76913138 0.74904807 0.73101924 0.74961483 0.78772697\n",
            " 0.82807051 0.81531925 0.7636058  0.76318077 0.81156468 0.81737364\n",
            " 0.85396269 0.87695035 0.91506249 0.97764984 0.98476933 1.\n",
            " 0.94258386 0.95122653 0.92165068 0.88049237 0.98080237 0.96369432\n",
            " 0.96911371 0.73546392 0.71828449 0.69142371 0.66078675 0.63061213\n",
            " 0.60350698 0.58073252 0.5625934  0.54880679 0.5387764  0.53179288\n",
            " 0.5271343  0.52414352]\n",
            "13 day output [[0.52225196]]\n",
            "14 day input [0.63035512 0.70367488 0.69428854 0.67640135 0.68132472 0.67427614\n",
            " 0.69110072 0.67799526 0.66450014 0.68823165 0.70434783 0.72386438\n",
            " 0.76913138 0.74904807 0.73101924 0.74961483 0.78772697 0.82807051\n",
            " 0.81531925 0.7636058  0.76318077 0.81156468 0.81737364 0.85396269\n",
            " 0.87695035 0.91506249 0.97764984 0.98476933 1.         0.94258386\n",
            " 0.95122653 0.92165068 0.88049237 0.98080237 0.96369432 0.96911371\n",
            " 0.73546392 0.71828449 0.69142371 0.66078675 0.63061213 0.60350698\n",
            " 0.58073252 0.5625934  0.54880679 0.5387764  0.53179288 0.5271343\n",
            " 0.52414352 0.52225196]\n",
            "14 day output [[0.5209881]]\n",
            "15 day input [0.70367488 0.69428854 0.67640135 0.68132472 0.67427614 0.69110072\n",
            " 0.67799526 0.66450014 0.68823165 0.70434783 0.72386438 0.76913138\n",
            " 0.74904807 0.73101924 0.74961483 0.78772697 0.82807051 0.81531925\n",
            " 0.7636058  0.76318077 0.81156468 0.81737364 0.85396269 0.87695035\n",
            " 0.91506249 0.97764984 0.98476933 1.         0.94258386 0.95122653\n",
            " 0.92165068 0.88049237 0.98080237 0.96369432 0.96911371 0.73546392\n",
            " 0.71828449 0.69142371 0.66078675 0.63061213 0.60350698 0.58073252\n",
            " 0.5625934  0.54880679 0.5387764  0.53179288 0.5271343  0.52414352\n",
            " 0.52225196 0.52098811]\n",
            "15 day output [[0.519976]]\n",
            "16 day input [0.69428854 0.67640135 0.68132472 0.67427614 0.69110072 0.67799526\n",
            " 0.66450014 0.68823165 0.70434783 0.72386438 0.76913138 0.74904807\n",
            " 0.73101924 0.74961483 0.78772697 0.82807051 0.81531925 0.7636058\n",
            " 0.76318077 0.81156468 0.81737364 0.85396269 0.87695035 0.91506249\n",
            " 0.97764984 0.98476933 1.         0.94258386 0.95122653 0.92165068\n",
            " 0.88049237 0.98080237 0.96369432 0.96911371 0.73546392 0.71828449\n",
            " 0.69142371 0.66078675 0.63061213 0.60350698 0.58073252 0.5625934\n",
            " 0.54880679 0.5387764  0.53179288 0.5271343  0.52414352 0.52225196\n",
            " 0.52098811 0.51997602]\n",
            "16 day output [[0.51893073]]\n",
            "17 day input [0.67640135 0.68132472 0.67427614 0.69110072 0.67799526 0.66450014\n",
            " 0.68823165 0.70434783 0.72386438 0.76913138 0.74904807 0.73101924\n",
            " 0.74961483 0.78772697 0.82807051 0.81531925 0.7636058  0.76318077\n",
            " 0.81156468 0.81737364 0.85396269 0.87695035 0.91506249 0.97764984\n",
            " 0.98476933 1.         0.94258386 0.95122653 0.92165068 0.88049237\n",
            " 0.98080237 0.96369432 0.96911371 0.73546392 0.71828449 0.69142371\n",
            " 0.66078675 0.63061213 0.60350698 0.58073252 0.5625934  0.54880679\n",
            " 0.5387764  0.53179288 0.5271343  0.52414352 0.52225196 0.52098811\n",
            " 0.51997602 0.51893073]\n",
            "17 day output [[0.51765734]]\n",
            "18 day input [0.68132472 0.67427614 0.69110072 0.67799526 0.66450014 0.68823165\n",
            " 0.70434783 0.72386438 0.76913138 0.74904807 0.73101924 0.74961483\n",
            " 0.78772697 0.82807051 0.81531925 0.7636058  0.76318077 0.81156468\n",
            " 0.81737364 0.85396269 0.87695035 0.91506249 0.97764984 0.98476933\n",
            " 1.         0.94258386 0.95122653 0.92165068 0.88049237 0.98080237\n",
            " 0.96369432 0.96911371 0.73546392 0.71828449 0.69142371 0.66078675\n",
            " 0.63061213 0.60350698 0.58073252 0.5625934  0.54880679 0.5387764\n",
            " 0.53179288 0.5271343  0.52414352 0.52225196 0.52098811 0.51997602\n",
            " 0.51893073 0.51765734]\n",
            "18 day output [[0.51602787]]\n",
            "19 day input [0.67427614 0.69110072 0.67799526 0.66450014 0.68823165 0.70434783\n",
            " 0.72386438 0.76913138 0.74904807 0.73101924 0.74961483 0.78772697\n",
            " 0.82807051 0.81531925 0.7636058  0.76318077 0.81156468 0.81737364\n",
            " 0.85396269 0.87695035 0.91506249 0.97764984 0.98476933 1.\n",
            " 0.94258386 0.95122653 0.92165068 0.88049237 0.98080237 0.96369432\n",
            " 0.96911371 0.73546392 0.71828449 0.69142371 0.66078675 0.63061213\n",
            " 0.60350698 0.58073252 0.5625934  0.54880679 0.5387764  0.53179288\n",
            " 0.5271343  0.52414352 0.52225196 0.52098811 0.51997602 0.51893073\n",
            " 0.51765734 0.51602787]\n",
            "19 day output [[0.5139743]]\n",
            "20 day input [0.69110072 0.67799526 0.66450014 0.68823165 0.70434783 0.72386438\n",
            " 0.76913138 0.74904807 0.73101924 0.74961483 0.78772697 0.82807051\n",
            " 0.81531925 0.7636058  0.76318077 0.81156468 0.81737364 0.85396269\n",
            " 0.87695035 0.91506249 0.97764984 0.98476933 1.         0.94258386\n",
            " 0.95122653 0.92165068 0.88049237 0.98080237 0.96369432 0.96911371\n",
            " 0.73546392 0.71828449 0.69142371 0.66078675 0.63061213 0.60350698\n",
            " 0.58073252 0.5625934  0.54880679 0.5387764  0.53179288 0.5271343\n",
            " 0.52414352 0.52225196 0.52098811 0.51997602 0.51893073 0.51765734\n",
            " 0.51602787 0.51397431]\n",
            "20 day output [[0.51148075]]\n",
            "21 day input [0.67799526 0.66450014 0.68823165 0.70434783 0.72386438 0.76913138\n",
            " 0.74904807 0.73101924 0.74961483 0.78772697 0.82807051 0.81531925\n",
            " 0.7636058  0.76318077 0.81156468 0.81737364 0.85396269 0.87695035\n",
            " 0.91506249 0.97764984 0.98476933 1.         0.94258386 0.95122653\n",
            " 0.92165068 0.88049237 0.98080237 0.96369432 0.96911371 0.73546392\n",
            " 0.71828449 0.69142371 0.66078675 0.63061213 0.60350698 0.58073252\n",
            " 0.5625934  0.54880679 0.5387764  0.53179288 0.5271343  0.52414352\n",
            " 0.52225196 0.52098811 0.51997602 0.51893073 0.51765734 0.51602787\n",
            " 0.51397431 0.51148075]\n",
            "21 day output [[0.5085679]]\n",
            "22 day input [0.66450014 0.68823165 0.70434783 0.72386438 0.76913138 0.74904807\n",
            " 0.73101924 0.74961483 0.78772697 0.82807051 0.81531925 0.7636058\n",
            " 0.76318077 0.81156468 0.81737364 0.85396269 0.87695035 0.91506249\n",
            " 0.97764984 0.98476933 1.         0.94258386 0.95122653 0.92165068\n",
            " 0.88049237 0.98080237 0.96369432 0.96911371 0.73546392 0.71828449\n",
            " 0.69142371 0.66078675 0.63061213 0.60350698 0.58073252 0.5625934\n",
            " 0.54880679 0.5387764  0.53179288 0.5271343  0.52414352 0.52225196\n",
            " 0.52098811 0.51997602 0.51893073 0.51765734 0.51602787 0.51397431\n",
            " 0.51148075 0.50856793]\n",
            "22 day output [[0.50528735]]\n",
            "23 day input [0.68823165 0.70434783 0.72386438 0.76913138 0.74904807 0.73101924\n",
            " 0.74961483 0.78772697 0.82807051 0.81531925 0.7636058  0.76318077\n",
            " 0.81156468 0.81737364 0.85396269 0.87695035 0.91506249 0.97764984\n",
            " 0.98476933 1.         0.94258386 0.95122653 0.92165068 0.88049237\n",
            " 0.98080237 0.96369432 0.96911371 0.73546392 0.71828449 0.69142371\n",
            " 0.66078675 0.63061213 0.60350698 0.58073252 0.5625934  0.54880679\n",
            " 0.5387764  0.53179288 0.5271343  0.52414352 0.52225196 0.52098811\n",
            " 0.51997602 0.51893073 0.51765734 0.51602787 0.51397431 0.51148075\n",
            " 0.50856793 0.50528735]\n",
            "23 day output [[0.5017064]]\n",
            "24 day input [0.70434783 0.72386438 0.76913138 0.74904807 0.73101924 0.74961483\n",
            " 0.78772697 0.82807051 0.81531925 0.7636058  0.76318077 0.81156468\n",
            " 0.81737364 0.85396269 0.87695035 0.91506249 0.97764984 0.98476933\n",
            " 1.         0.94258386 0.95122653 0.92165068 0.88049237 0.98080237\n",
            " 0.96369432 0.96911371 0.73546392 0.71828449 0.69142371 0.66078675\n",
            " 0.63061213 0.60350698 0.58073252 0.5625934  0.54880679 0.5387764\n",
            " 0.53179288 0.5271343  0.52414352 0.52225196 0.52098811 0.51997602\n",
            " 0.51893073 0.51765734 0.51602787 0.51397431 0.51148075 0.50856793\n",
            " 0.50528735 0.50170642]\n",
            "24 day output [[0.49789926]]\n",
            "25 day input [0.72386438 0.76913138 0.74904807 0.73101924 0.74961483 0.78772697\n",
            " 0.82807051 0.81531925 0.7636058  0.76318077 0.81156468 0.81737364\n",
            " 0.85396269 0.87695035 0.91506249 0.97764984 0.98476933 1.\n",
            " 0.94258386 0.95122653 0.92165068 0.88049237 0.98080237 0.96369432\n",
            " 0.96911371 0.73546392 0.71828449 0.69142371 0.66078675 0.63061213\n",
            " 0.60350698 0.58073252 0.5625934  0.54880679 0.5387764  0.53179288\n",
            " 0.5271343  0.52414352 0.52225196 0.52098811 0.51997602 0.51893073\n",
            " 0.51765734 0.51602787 0.51397431 0.51148075 0.50856793 0.50528735\n",
            " 0.50170642 0.49789926]\n",
            "25 day output [[0.49394438]]\n",
            "26 day input [0.76913138 0.74904807 0.73101924 0.74961483 0.78772697 0.82807051\n",
            " 0.81531925 0.7636058  0.76318077 0.81156468 0.81737364 0.85396269\n",
            " 0.87695035 0.91506249 0.97764984 0.98476933 1.         0.94258386\n",
            " 0.95122653 0.92165068 0.88049237 0.98080237 0.96369432 0.96911371\n",
            " 0.73546392 0.71828449 0.69142371 0.66078675 0.63061213 0.60350698\n",
            " 0.58073252 0.5625934  0.54880679 0.5387764  0.53179288 0.5271343\n",
            " 0.52414352 0.52225196 0.52098811 0.51997602 0.51893073 0.51765734\n",
            " 0.51602787 0.51397431 0.51148075 0.50856793 0.50528735 0.50170642\n",
            " 0.49789926 0.49394438]\n",
            "26 day output [[0.48991492]]\n",
            "27 day input [0.74904807 0.73101924 0.74961483 0.78772697 0.82807051 0.81531925\n",
            " 0.7636058  0.76318077 0.81156468 0.81737364 0.85396269 0.87695035\n",
            " 0.91506249 0.97764984 0.98476933 1.         0.94258386 0.95122653\n",
            " 0.92165068 0.88049237 0.98080237 0.96369432 0.96911371 0.73546392\n",
            " 0.71828449 0.69142371 0.66078675 0.63061213 0.60350698 0.58073252\n",
            " 0.5625934  0.54880679 0.5387764  0.53179288 0.5271343  0.52414352\n",
            " 0.52225196 0.52098811 0.51997602 0.51893073 0.51765734 0.51602787\n",
            " 0.51397431 0.51148075 0.50856793 0.50528735 0.50170642 0.49789926\n",
            " 0.49394438 0.48991492]\n",
            "27 day output [[0.48587486]]\n",
            "28 day input [0.73101924 0.74961483 0.78772697 0.82807051 0.81531925 0.7636058\n",
            " 0.76318077 0.81156468 0.81737364 0.85396269 0.87695035 0.91506249\n",
            " 0.97764984 0.98476933 1.         0.94258386 0.95122653 0.92165068\n",
            " 0.88049237 0.98080237 0.96369432 0.96911371 0.73546392 0.71828449\n",
            " 0.69142371 0.66078675 0.63061213 0.60350698 0.58073252 0.5625934\n",
            " 0.54880679 0.5387764  0.53179288 0.5271343  0.52414352 0.52225196\n",
            " 0.52098811 0.51997602 0.51893073 0.51765734 0.51602787 0.51397431\n",
            " 0.51148075 0.50856793 0.50528735 0.50170642 0.49789926 0.49394438\n",
            " 0.48991492 0.48587486]\n",
            "28 day output [[0.48188367]]\n",
            "29 day input [0.74961483 0.78772697 0.82807051 0.81531925 0.7636058  0.76318077\n",
            " 0.81156468 0.81737364 0.85396269 0.87695035 0.91506249 0.97764984\n",
            " 0.98476933 1.         0.94258386 0.95122653 0.92165068 0.88049237\n",
            " 0.98080237 0.96369432 0.96911371 0.73546392 0.71828449 0.69142371\n",
            " 0.66078675 0.63061213 0.60350698 0.58073252 0.5625934  0.54880679\n",
            " 0.5387764  0.53179288 0.5271343  0.52414352 0.52225196 0.52098811\n",
            " 0.51997602 0.51893073 0.51765734 0.51602787 0.51397431 0.51148075\n",
            " 0.50856793 0.50528735 0.50170642 0.49789926 0.49394438 0.48991492\n",
            " 0.48587486 0.48188367]\n",
            "29 day output [[0.4779848]]\n",
            "[[0.7354639172554016], [0.7182844877243042], [0.6914237141609192], [0.6607867479324341], [0.6306121349334717], [0.6035069823265076], [0.580732524394989], [0.562593400478363], [0.5488067865371704], [0.5387763977050781], [0.5317928791046143], [0.5271342992782593], [0.5241435170173645], [0.5222519636154175], [0.5209881067276001], [0.519976019859314], [0.5189307332038879], [0.5176573395729065], [0.5160278677940369], [0.5139743089675903], [0.5114807486534119], [0.5085679292678833], [0.5052873492240906], [0.5017064213752747], [0.49789926409721375], [0.493944376707077], [0.4899149239063263], [0.48587486147880554], [0.4818836748600006], [0.47798478603363037]]\n"
          ],
          "name": "stdout"
        }
      ]
    },
    {
      "cell_type": "code",
      "metadata": {
        "id": "JZC1A6X5fwz2",
        "colab_type": "code",
        "colab": {}
      },
      "source": [
        "day_new=np.arange(1,51)\n",
        "day_pred=np.arange(51,81)"
      ],
      "execution_count": null,
      "outputs": []
    },
    {
      "cell_type": "code",
      "metadata": {
        "id": "SX5P_9TtgAEl",
        "colab_type": "code",
        "colab": {}
      },
      "source": [
        "import matplotlib.pyplot as plt"
      ],
      "execution_count": null,
      "outputs": []
    },
    {
      "cell_type": "code",
      "metadata": {
        "id": "gxFN7PeFgDGr",
        "colab_type": "code",
        "colab": {
          "base_uri": "https://localhost:8080/",
          "height": 35
        },
        "outputId": "adde1153-3c56-44c6-8091-6f51c1575773"
      },
      "source": [
        "len(df1)"
      ],
      "execution_count": null,
      "outputs": [
        {
          "output_type": "execute_result",
          "data": {
            "text/plain": [
              "737"
            ]
          },
          "metadata": {
            "tags": []
          },
          "execution_count": 111
        }
      ]
    },
    {
      "cell_type": "code",
      "metadata": {
        "id": "KjmX-T8AgE4n",
        "colab_type": "code",
        "colab": {
          "base_uri": "https://localhost:8080/",
          "height": 283
        },
        "outputId": "91040eb9-77b0-4f47-ee2a-5874666febf8"
      },
      "source": [
        "plt.plot(day_new,scaler.inverse_transform(df1[687:]))\n",
        "plt.plot(day_pred,scaler.inverse_transform(lst_output))"
      ],
      "execution_count": null,
      "outputs": [
        {
          "output_type": "execute_result",
          "data": {
            "text/plain": [
              "[<matplotlib.lines.Line2D at 0x7f7b06876e10>]"
            ]
          },
          "metadata": {
            "tags": []
          },
          "execution_count": 112
        },
        {
          "output_type": "display_data",
          "data": {
            "image/png": "[encoded data removed]",
            "text/plain": [
              "<Figure size 432x288 with 1 Axes>"
            ]
          },
          "metadata": {
            "tags": [],
            "needs_background": "light"
          }
        }
      ]
    },
    {
      "cell_type": "code",
      "metadata": {
        "id": "cOOh7s7CgHJ_",
        "colab_type": "code",
        "colab": {
          "base_uri": "https://localhost:8080/",
          "height": 283
        },
        "outputId": "09c11343-bdd2-4d92-ffba-cc2ecf9d6ef0"
      },
      "source": [
        "df3=df1.tolist()\n",
        "df3.extend(lst_output)\n",
        "plt.plot(df3[700:])"
      ],
      "execution_count": null,
      "outputs": [
        {
          "output_type": "execute_result",
          "data": {
            "text/plain": [
              "[<matplotlib.lines.Line2D at 0x7f7b06704128>]"
            ]
          },
          "metadata": {
            "tags": []
          },
          "execution_count": 113
        },
        {
          "output_type": "display_data",
          "data": {
            "image/png": "[encoded data removed]",
            "text/plain": [
              "<Figure size 432x288 with 1 Axes>"
            ]
          },
          "metadata": {
            "tags": [],
            "needs_background": "light"
          }
        }
      ]
    },
    {
      "cell_type": "code",
      "metadata": {
        "id": "5racfo5cg5az",
        "colab_type": "code",
        "colab": {}
      },
      "source": [
        "df3=scaler.inverse_transform(df3).tolist()"
      ],
      "execution_count": null,
      "outputs": []
    },
    {
      "cell_type": "code",
      "metadata": {
        "id": "fywh_eYPg8Pd",
        "colab_type": "code",
        "colab": {
          "base_uri": "https://localhost:8080/",
          "height": 283
        },
        "outputId": "725e8468-2e12-4fe3-d4dd-3cd327706b3d"
      },
      "source": [
        "plt.plot(df3)"
      ],
      "execution_count": null,
      "outputs": [
        {
          "output_type": "execute_result",
          "data": {
            "text/plain": [
              "[<matplotlib.lines.Line2D at 0x7f7b066e1630>]"
            ]
          },
          "metadata": {
            "tags": []
          },
          "execution_count": 115
        },
        {
          "output_type": "display_data",
          "data": {
            "image/png": "[encoded data removed]",
            "text/plain": [
              "<Figure size 432x288 with 1 Axes>"
            ]
          },
          "metadata": {
            "tags": [],
            "needs_background": "light"
          }
        }
      ]
    },
    {
      "cell_type": "code",
      "metadata": {
        "id": "MqYUYSxCg-OQ",
        "colab_type": "code",
        "colab": {}
      },
      "source": [
        ""
      ],
      "execution_count": null,
      "outputs": []
    }
  ]
}